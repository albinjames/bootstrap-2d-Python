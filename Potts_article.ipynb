{
 "cells": [
  {
   "cell_type": "code",
   "execution_count": null,
   "metadata": {
    "collapsed": false
   },
   "outputs": [],
   "source": [
    "from __future__ import division, print_function\n",
    "from Spectrum_bootstrap import *\n",
    "from sympy import Rational\n",
    "from Data import Table\n",
    "import math, cmath\n",
    "\n",
    "import matplotlib.pyplot as plt\n",
    "plt.rc(\"figure\", facecolor = \"white\")\n",
    "plt.rc('text', usetex = True)\n",
    "plt.rc('font', family = 'serif')\n",
    "\n",
    "from CFT import *"
   ]
  },
  {
   "cell_type": "markdown",
   "metadata": {},
   "source": [
    "# A conformal bootstrap approach to critical percolation in two dimensions\n",
    "In this notebook we perform numerical conformal bootstrap calculations for the article by Marco Picco, Sylvain Ribault and Raoul Santachiara. "
   ]
  },
  {
   "cell_type": "markdown",
   "metadata": {},
   "source": [
    "## Testing the code in a known case: generalized minimal models\n",
    "Let us see whether we can compute four-point functions in generalized minimal models, based on the ansatz that the spectrum of a four-point function is dictated by the fusion rules of the fields. Since all states in generalized minimal models are diagonal and degenerate, the resulting spectrum is made of finitely many diagonal states.\n",
    "\n",
    "We choose a generic value of the central charge $c=.22+.17i$, and the degenerate field with labels $(4,3)$. We display the states that can appear in the four-point function $\\left<V_{(4,3)}V_{(4,3)}V_{(4,3)}V_{(4,3)}\\right>$. We first display the state labels, spins and conformal dimensions, and see that the ground state is the state $(7,5)$.\n",
    "We then display the known structure constants, normalized so that the constant for the ground state is one. "
   ]
  },
  {
   "cell_type": "code",
   "execution_count": null,
   "metadata": {
    "collapsed": false,
    "scrolled": true
   },
   "outputs": [],
   "source": [
    "c = .22 + .17*1j\n",
    "pair = [4, 3]\n",
    "spectrum = GMM_Spectrum(pair = pair, charge = Charge('c', c))\n",
    "print( 'Conformal dimensions. ' )\n",
    "print( '(left label) (right label) spin [(left dimension), (right dimension)]' )\n",
    "spectrum.truncate(show = True)\n",
    "print( 'Structure constants. ' )\n",
    "print( '(label) constant' )\n",
    "spectrum.display(real_part = False)"
   ]
  },
  {
   "cell_type": "markdown",
   "metadata": {},
   "source": [
    "We use the bootstrap method for deriving the structure constants. Since the spectrum has only $12$ fields, we do not truncate it. The structure constants for the $9$ lowest states are in good agreement with the known results, and the coefficient of variation of structure constants give good indications of how well they agree with the known results. "
   ]
  },
  {
   "cell_type": "code",
   "execution_count": null,
   "metadata": {
    "collapsed": false,
    "scrolled": true
   },
   "outputs": [],
   "source": [
    "stats = Struct_Csts_Stats(spectrum = spectrum, Nsamples = 3, L = 12, blocklevel = 10)\n",
    "print( '(label) (mean structure constant) coefficient of variation' )\n",
    "stats.display_cst()\n",
    "print( 'computer time in seconds: ', stats.duration )"
   ]
  },
  {
   "cell_type": "markdown",
   "metadata": {},
   "source": [
    "## The case of percolation\n",
    "Let us consider the ansatz $\\mathcal{S}_{2\\mathbb{Z},\\mathbb{Z}+\\frac12}$ at $c=0$ for the spectrum of a four-point function of fields with dimensions $\\Delta_{(0,\\frac12)}$. We display the results for mean structure constants and coefficients of variation as a Latex table."
   ]
  },
  {
   "cell_type": "code",
   "execution_count": null,
   "metadata": {
    "collapsed": false
   },
   "outputs": [],
   "source": [
    "c = 10**(-9)\n",
    "charge = Charge('c', c)\n",
    "beta = charge.get('beta')\n",
    "spectrum = Another_Spectrum(beta = beta, spacings = [2, 1], shifts = [False, True])\n",
    "stats = Struct_Csts_Stats(spectrum = spectrum, Nsamples = 3, L = 5.5, blocklevel = 16)\n",
    "print( 'computer time in seconds: ', stats.duration )"
   ]
  },
  {
   "cell_type": "code",
   "execution_count": null,
   "metadata": {
    "collapsed": false
   },
   "outputs": [],
   "source": [
    "M = 16  # number of states that we display\n",
    "\n",
    "pretty_indices = [(Rational(pair[0]), Rational(pair[1])) for pair in stats.indices]\n",
    "pretty_csts = [Table.format_result(cst, digits = 10, real = True) for cst in stats.mean_cst]\n",
    "pretty_cvar = [Table.format_precision(var) for var in stats.cvar]\n",
    "exact_charge = Charge('c', 0)\n",
    "total_dims = [(Dimension('degenerate', pair, exact_charge).get('Delta', num = False),\n",
    "              Dimension('degenerate', (pair[0], -pair[1]), exact_charge).get('Delta', num = False))\n",
    "              for pair in pretty_indices]\n",
    "string = ( r\"\\begin{array}{rrrc} (r,\\quad s) & (\\Delta,\\quad \\bar\\Delta) \" + \n",
    "          r\" & D_{\\Delta,\\bar\\Delta}\\qquad & c_{\\Delta,\\bar\\Delta} \\\\ \\hline\" )\n",
    "for i in range(M):\n",
    "    string += ( latex(pretty_indices[i]) + r\" & \" + latex(total_dims[i]) + r\" & \"\n",
    "               + pretty_csts[i] + r\" & \" + pretty_cvar[i] + r\" \\\\ \")\n",
    "string += r\" \\hline \\end{array}\"\n",
    "# print( string )\n",
    "display(Math(string))"
   ]
  },
  {
   "cell_type": "markdown",
   "metadata": {},
   "source": [
    "Let us quickly generate data for the plots in the article. The precision need not be very high, and we keep only the first $7$ states."
   ]
  },
  {
   "cell_type": "code",
   "execution_count": null,
   "metadata": {
    "collapsed": false
   },
   "outputs": [],
   "source": [
    "L = 3.2\n",
    "print( 'Dimensions: ' )\n",
    "spectrum.truncate(L = L, show = True) \n",
    "csts = Struct_Csts(spectrum = spectrum, L = L, blocklevel = 6)\n",
    "print( 'Structure constants: ' )\n",
    "csts.constants()"
   ]
  },
  {
   "cell_type": "code",
   "execution_count": null,
   "metadata": {
    "collapsed": false
   },
   "outputs": [],
   "source": [
    "rho_min = .001\n",
    "rho_max = 1.2\n",
    "N_points = 30\n",
    "ylims = [.95, 1.25]\n",
    "thetas = [0, math.pi/6, math.pi/4, math.pi/3]\n",
    "theta_names = [r'$\\theta = 0$', r'$\\theta =\\frac{\\pi}{6}$', \n",
    "               r'$\\theta =\\frac{\\pi}{4}$', r'$\\theta =\\frac{\\pi}{3}$']\n",
    "digits = 5\n",
    "\n",
    "Delta = csts.field.get('Delta')   # Dimension of the field whose four-point function we compute.\n",
    "rho_interval = (rho_max - rho_min) / N_points\n",
    "rhos = [rho_min + i * rho_interval for i in range(N_points + 1)]\n",
    "fig = plt.figure()\n",
    "fig.canvas.set_window_title('A four-point function in two-dimensional percolation') \n",
    "\n",
    "for theta in thetas:\n",
    "    values = []\n",
    "    phase = cmath.exp(theta * 1j)\n",
    "    for rho in rhos:\n",
    "        z = rho * phase\n",
    "        factor = rho ** (2 * Delta)   # Prefactor that ensures finiteness at z = 0.\n",
    "        value = factor * csts.values(z, reduced = False, channel = True)\n",
    "        values.append(Table.format_result(value, digits = digits, real = True))\n",
    "    plt.plot(rhos, values, label = theta_names[thetas.index(theta)])\n",
    "    \n",
    "plt.gca().tick_params(axis = 'x', pad = 8)\n",
    "plt.gca().tick_params(axis = 'y', pad = 8)   \n",
    "plt.gca().set_ylim(ylims)\n",
    "plt.legend()\n",
    "plt.show()"
   ]
  },
  {
   "cell_type": "markdown",
   "metadata": {},
   "source": [
    "## Other values of the central charge\n",
    "After critical percolation ($q=1$, $c=0$), we explore other values of the number of states $q$, equivalently of the central charge $c$. From $q$, we deduce the parameter $\\beta$ as \n",
    "$$\n",
    "\\beta = \\sqrt{1- \\frac{1}{2\\pi} \\arccos\\left(\\frac{q}{2}-1\\right)}\n",
    "$$\n",
    "Then we check that the spectrum $\\mathcal{S}_{2\\mathbb{Z},\\mathbb{Z}+\\frac12}$ is consistent for arbitrary complex central charges such that $\\Re c < 13$."
   ]
  },
  {
   "cell_type": "code",
   "execution_count": null,
   "metadata": {
    "collapsed": false
   },
   "outputs": [],
   "source": [
    "def BfromQ(q):\n",
    "    return math.sqrt(1 - math.acos(q/2-1)/2/math.pi)\n",
    "qs = [1, 1.5, 2.5, 3]\n",
    "q_names = [r'$q=1$', r'$q=1.5$', r'$q=2.5$', r'$q=3$']\n",
    "L = 3.2\n",
    "\n",
    "fig = plt.figure()\n",
    "fig.canvas.set_window_title('A four-point function in the Potts model') \n",
    "\n",
    "for q in qs:\n",
    "    beta = BfromQ(q)\n",
    "    values = []\n",
    "    spectrum = Another_Spectrum(beta = beta, spacings = [2, 1], shifts = [False, True])\n",
    "    # print( 'Dimensions: ' )\n",
    "    # spectrum.truncate(L = L, show = True) \n",
    "    csts = Struct_Csts(spectrum = spectrum, L = L, blocklevel = 6)\n",
    "    csts.constants()\n",
    "    Delta = csts.field.get('Delta') # Dimension of the field whose four-point function we compute.\n",
    "    for rho in rhos:\n",
    "        factor = rho ** (2 * Delta)   # Prefactor that ensures finiteness at z = 0.\n",
    "        value = factor * csts.values(rho, reduced = False, channel = True)\n",
    "        values.append(Table.format_result(value, digits = digits, real = True))\n",
    "    plt.plot(rhos, values, label = q_names[qs.index(q)])\n",
    "    \n",
    "plt.gca().tick_params(axis = 'x', pad = 8)\n",
    "plt.gca().tick_params(axis = 'y', pad = 8)   \n",
    "plt.gca().set_ylim(ylims)\n",
    "plt.legend()\n",
    "plt.show()"
   ]
  },
  {
   "cell_type": "code",
   "execution_count": null,
   "metadata": {
    "collapsed": false
   },
   "outputs": [],
   "source": [
    "c = 3 + 2 * 1j\n",
    "charge = Charge('c', c)\n",
    "beta = charge.get('beta')\n",
    "spectrum = Another_Spectrum(beta = beta, spacings = [2, 1], shifts = [False, True])\n",
    "stats = Struct_Csts_Stats(spectrum = spectrum, L = 5, blocklevel = 10)\n",
    "print( '(label) (mean structure constant) coefficient of variation' )\n",
    "stats.display_cst()\n",
    "print( 'computer time in seconds: ', stats.duration )"
   ]
  },
  {
   "cell_type": "markdown",
   "metadata": {},
   "source": [
    "## A failed extrapolation from $c=1$\n",
    "\n",
    "At $c=1$ we know that the spectrum $\\mathcal{S}_{2\\mathbb{Z},\\mathbb{Z}}$ is consistent, and correctly describes the $u$-channel behaviour of the four-point function whose $s$- and $t$-channel spectrum is $\\mathcal{S}_{2\\mathbb{Z},\\mathbb{Z}+\\frac12}$. We will now see that it is inconsistent for $c\\neq 1$, while becoming less and less so as $c\\to 1$ i.e. $\\beta \\to 1$. \n",
    "\n",
    "Notice that for $\\beta \\to 1$ some coefficients of variations remain high for states that share the same dimension. Such states occur due to the identity $(m, n) = (n, m)$ that is valid at $c=1$. So for example $(2, 0) = (0, 2)$ coincide at $c=1$, but are counted as two different states in $\\mathcal{S}_{2\\mathbb{Z},\\mathbb{Z}}$.\n",
    "\n",
    "These calculations are first done using the naive regularization of divergent conformal blocks, where infinite terms are simply ignored. We then check that the logarithmic regularization does not solve the problem."
   ]
  },
  {
   "cell_type": "code",
   "execution_count": null,
   "metadata": {
    "collapsed": false
   },
   "outputs": [],
   "source": [
    "betas = [.61, .81, .95, .99, .9999, .999999]\n",
    "for beta in betas:\n",
    "    print( 'beta = ', beta )\n",
    "    spectrum = Another_Spectrum(beta = beta, spacings = [2, 1], shifts = [False, False])\n",
    "    stats = Struct_Csts_Stats(spectrum = spectrum, L = 5, blocklevel = 10)\n",
    "    print( '(label) (mean structure constant) coefficient of variation' )\n",
    "    stats.display_cst()\n",
    "    print( 'computer time in seconds: ', stats.duration )"
   ]
  },
  {
   "cell_type": "code",
   "execution_count": null,
   "metadata": {
    "collapsed": false
   },
   "outputs": [],
   "source": [
    "beta = .81\n",
    "spectrum = Another_Spectrum(beta = beta, spacings = [2, 1], shifts = [False, False], deg = True)\n",
    "\"\"\"\n",
    "The option 'deg = True' switches on the logarithmic regularization, including adding the relevant\n",
    "diagonal states to the spectrum. By convention, the first index of such a diagonal state is\n",
    "negative. For example, (-2, 1) is the diagonal state that appears in the logarithmic\n",
    "regularization of the non-diagonal states (2, -1) and (2, 1).\n",
    "\"\"\"\n",
    "stats = Struct_Csts_Stats(spectrum = spectrum, L = 5, blocklevel = 10)\n",
    "print( '(label) (mean structure constant) coefficient of variation' )\n",
    "stats.display_cst()\n",
    "print( 'computer time in seconds: ', stats.duration )"
   ]
  },
  {
   "cell_type": "markdown",
   "metadata": {},
   "source": [
    "## Another consistent spectrum\n",
    "\n",
    "For $\\Re c<13$, we find that the spectrum $\\mathcal{S}_{2\\mathbb{Z}+1,\\mathbb{Z}}$ is consistent for a four-point function of fields with dimensions $\\Delta_{(0,\\frac12)}$. "
   ]
  },
  {
   "cell_type": "code",
   "execution_count": null,
   "metadata": {
    "collapsed": false
   },
   "outputs": [],
   "source": [
    "c = 3 + 2 * 1j\n",
    "charge = Charge('c', c)\n",
    "beta = charge.get('beta')\n",
    "spectrum = Another_Spectrum(beta = beta, spacings = [2, 1], shifts = [True, False])\n",
    "stats = Struct_Csts_Stats(spectrum = spectrum, L = 5, blocklevel = 10)\n",
    "print( '(label) (mean structure constant) coefficient of variation' )\n",
    "stats.display_cst()\n",
    "print( 'computer time in seconds: ', stats.duration )"
   ]
  }
 ],
 "metadata": {
  "kernelspec": {
   "display_name": "Python 2",
   "language": "python",
   "name": "python2"
  },
  "language_info": {
   "codemirror_mode": {
    "name": "ipython",
    "version": 2
   },
   "file_extension": ".py",
   "mimetype": "text/x-python",
   "name": "python",
   "nbconvert_exporter": "python",
   "pygments_lexer": "ipython2",
   "version": "2.7.12"
  }
 },
 "nbformat": 4,
 "nbformat_minor": 0
}
