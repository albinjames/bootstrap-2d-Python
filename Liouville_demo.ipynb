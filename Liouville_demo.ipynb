{
 "cells": [
  {
   "cell_type": "code",
   "execution_count": 1,
   "metadata": {
    "collapsed": false
   },
   "outputs": [],
   "source": [
    "from CFT import *\n",
    "from Data import *\n",
    "import math\n",
    "from IPython.display import display, Math"
   ]
  },
  {
   "cell_type": "markdown",
   "metadata": {},
   "source": [
    "# Testing crossing symmetry in Liouville theory"
   ]
  },
  {
   "cell_type": "markdown",
   "metadata": {},
   "source": [
    "The $s$-channel decomposition of a four-point function is \n",
    "$$\n",
    "\\left\\langle \\prod_{i=1}^4 V_{\\Delta_i}(z_i) \\right\\rangle = \\sum_\\Delta C_{\\Delta_1, \\Delta_2, \\Delta} C_{\\Delta_3, \\Delta_4, \\Delta} \\mathcal{G}^{(s)}_\\Delta(\\Delta_i|z_i)\n",
    "$$\n",
    "We want to compare this with the $t$-channel decomposition of the same quantity,\n",
    "$$\n",
    " \\left\\langle \\prod_{i=1}^4 V_{\\Delta_i}(z_i) \\right\\rangle = \\sum_\\Delta C_{\\Delta_2, \\Delta_3, \\Delta} C_{\\Delta_1, \\Delta_4, \\Delta} \\mathcal{G}^{(t)}_\\Delta(\\Delta_i|z_i)\n",
    "$$"
   ]
  },
  {
   "cell_type": "markdown",
   "metadata": {},
   "source": [
    "## Central charge $c > 25$"
   ]
  },
  {
   "cell_type": "markdown",
   "metadata": {},
   "source": [
    "We will choose an arbitrary value of the central charge by setting\n",
    "$$\n",
    "b = \\sqrt{3} - 1\n",
    "$$\n",
    "We choose arbitrary conformal dimensions by setting\n",
    "$$\n",
    "P_i = [1.3, 1.01, .45, .22]\n",
    "$$"
   ]
  },
  {
   "cell_type": "code",
   "execution_count": 2,
   "metadata": {
    "collapsed": false
   },
   "outputs": [
    {
     "data": {
      "text/latex": [
       "$$c_0=27.41$$"
      ],
      "text/plain": [
       "<IPython.core.display.Math object>"
      ]
     },
     "metadata": {},
     "output_type": "display_data"
    },
    {
     "data": {
      "text/latex": [
       "$$\\Delta_i =[2.79, 2.121, 1.303, 1.149]$$"
      ],
      "text/plain": [
       "<IPython.core.display.Math object>"
      ]
     },
     "metadata": {},
     "output_type": "display_data"
    }
   ],
   "source": [
    "b0 = math.sqrt(3) - 1\n",
    "\n",
    "charge = Charge('b', b0)\n",
    "\n",
    "c = float(charge.get('c'))\n",
    "\n",
    "display(Math(('c_0=' + '{:.2f}'.format(c))))\n",
    "\n",
    "Ps = [1.3, 1.01, .45, .22]\n",
    "\n",
    "Deltas = list(map(lambda x: float('{:.3f}'.format(x)), \n",
    "             [float(Dimension('P', P, charge).get('Delta')) for P in Ps]))\n",
    "\n",
    "display(Math(r'\\Delta_i =' + str(Deltas)))"
   ]
  },
  {
   "cell_type": "markdown",
   "metadata": {},
   "source": [
    "Let us compute the Liouville four-point function with different truncation levels for the Zamolodchikov recursion."
   ]
  },
  {
   "cell_type": "code",
   "execution_count": 3,
   "metadata": {
    "collapsed": false
   },
   "outputs": [],
   "source": [
    "data0 = Data(theory = 'Liouville', b = b0, Ps = Ps, Nmax = [0, 2, 4, 6], Pcutoff = 3, spline = 60)"
   ]
  },
  {
   "cell_type": "code",
   "execution_count": 4,
   "metadata": {
    "collapsed": false
   },
   "outputs": [
    {
     "data": {
      "text/latex": [
       "$$x=0.27$$"
      ],
      "text/plain": [
       "<IPython.core.display.Math object>"
      ]
     },
     "metadata": {},
     "output_type": "display_data"
    },
    {
     "data": {
      "text/latex": [
       "$$\\begin{array}{|r||r|r||r|r|} \\hline N_\\mathrm{max} & s\\text{-channel} & t\\text{-channel} & \\text{precision} & \\text{time} \\\\ \\hline  \\hline 0 & 14499.817 & 7172.877 & 1 & 0.2 \\\\ \\hline 2 & 14296.117 & 13887.416 & 0.029 & 0.2 \\\\ \\hline 4 & 14295.721 & 14284.212 & 0.00081 & 0.2 \\\\ \\hline 6 & 14295.720 & 14295.452 & 1.9 \\times 10^{-5} & 0.2 \\\\ \\hline  \\end{array} $$"
      ],
      "text/plain": [
       "<IPython.core.display.Math object>"
      ]
     },
     "metadata": {},
     "output_type": "display_data"
    }
   ],
   "source": [
    "Table(data0, digits = 3).display()"
   ]
  },
  {
   "cell_type": "markdown",
   "metadata": {},
   "source": [
    "## Other values of the central charge"
   ]
  },
  {
   "cell_type": "markdown",
   "metadata": {},
   "source": [
    "We now consider central charges $c_1 = 8.34 \\in (1, 25)$ and $c_2 = 2 + 3i$."
   ]
  },
  {
   "cell_type": "code",
   "execution_count": 5,
   "metadata": {
    "collapsed": false
   },
   "outputs": [],
   "source": [
    "c1 = 8.34\n",
    "\n",
    "c2 = 2 + 3*1j\n",
    "\n",
    "charges = [Charge('c', c) for c in [c1, c2]]\n",
    "\n",
    "bs = [complex(charge.get('b')) for charge in charges]\n",
    "\n",
    "datas = [Data(theory = 'Liouville', b = b, Ps = Ps, Nmax = [0, 2, 4, 6], \n",
    "              Pcutoff = 3, spline = 60) for b in bs]"
   ]
  },
  {
   "cell_type": "code",
   "execution_count": 6,
   "metadata": {
    "collapsed": false
   },
   "outputs": [
    {
     "data": {
      "text/latex": [
       "$$c_1 = 8.34$$"
      ],
      "text/plain": [
       "<IPython.core.display.Math object>"
      ]
     },
     "metadata": {},
     "output_type": "display_data"
    },
    {
     "data": {
      "text/latex": [
       "$$x=0.27$$"
      ],
      "text/plain": [
       "<IPython.core.display.Math object>"
      ]
     },
     "metadata": {},
     "output_type": "display_data"
    },
    {
     "data": {
      "text/latex": [
       "$$\\begin{array}{|r||r|r||r|r|} \\hline N_\\mathrm{max} & s\\text{-channel} & t\\text{-channel} & \\text{precision} & \\text{time} \\\\ \\hline  \\hline 0 & 50.1808 & 17.2529 & 1.9 & 0.2 \\\\ \\hline 2 & 47.6793 & 45.6289 & 0.045 & 0.3 \\\\ \\hline 4 & 47.6766 & 47.6202 & 0.0012 & 0.3 \\\\ \\hline 6 & 47.6766 & 47.6761 & 9.8 \\times 10^{-6} & 0.3 \\\\ \\hline  \\end{array} $$"
      ],
      "text/plain": [
       "<IPython.core.display.Math object>"
      ]
     },
     "metadata": {},
     "output_type": "display_data"
    },
    {
     "data": {
      "text/latex": [
       "$$c_2 = 2+3i$$"
      ],
      "text/plain": [
       "<IPython.core.display.Math object>"
      ]
     },
     "metadata": {},
     "output_type": "display_data"
    },
    {
     "data": {
      "text/latex": [
       "$$x=0.27$$"
      ],
      "text/plain": [
       "<IPython.core.display.Math object>"
      ]
     },
     "metadata": {},
     "output_type": "display_data"
    },
    {
     "data": {
      "text/latex": [
       "$$\\begin{array}{|r||r|r||r|r|} \\hline N_\\mathrm{max} & s\\text{-channel} & t\\text{-channel} & \\text{precision} & \\text{time} \\\\ \\hline  \\hline 0 & -1.076835 & -0.619832 & 2.6 & 0.5 \\\\ \\hline 2 & -1.619454 & -1.528964 & 0.053 & 0.8 \\\\ \\hline 4 & -1.619515 & -1.616498 & 0.0014 & 0.8 \\\\ \\hline 6 & -1.619515 & -1.619829 & 8.3 \\times 10^{-5} & 0.9 \\\\ \\hline  \\end{array} $$"
      ],
      "text/plain": [
       "<IPython.core.display.Math object>"
      ]
     },
     "metadata": {},
     "output_type": "display_data"
    }
   ],
   "source": [
    "display(Math('c_1 = ' + str(c1)))\n",
    "\n",
    "Table(datas[0], digits = 4).display()\n",
    "\n",
    "display(Math('c_2 = ' + str(c2).replace('(', '').replace(')', '').replace('j', 'i')))\n",
    "\n",
    "Table(datas[1], digits = 6).display()"
   ]
  },
  {
   "cell_type": "markdown",
   "metadata": {},
   "source": [
    "# Liouville theory with $c < 1$"
   ]
  },
  {
   "cell_type": "markdown",
   "metadata": {},
   "source": [
    "Let us consider $c_3 = -1.4645$."
   ]
  },
  {
   "cell_type": "code",
   "execution_count": 7,
   "metadata": {
    "collapsed": false
   },
   "outputs": [],
   "source": [
    "c3 = -1.4645\n",
    "\n",
    "b3 = float(Charge('c', c3).get('beta'))\n",
    "\n",
    "Ps = [1.3, 1.01, .45, .22]\n",
    "\n",
    "data3 = Data(theory = 'Analytic', beta = b3, Ps = Ps, Ucutoff = 12,\n",
    "             Nmax = [0, 2, 4, 6, 8], Pcutoff = 3, spline = 60)"
   ]
  },
  {
   "cell_type": "code",
   "execution_count": 8,
   "metadata": {
    "collapsed": false
   },
   "outputs": [
    {
     "data": {
      "text/latex": [
       "$$x=0.27$$"
      ],
      "text/plain": [
       "<IPython.core.display.Math object>"
      ]
     },
     "metadata": {},
     "output_type": "display_data"
    },
    {
     "data": {
      "text/latex": [
       "$$\\begin{array}{|r||r|r||r|r|} \\hline N_\\mathrm{max} & s\\text{-channel} & t\\text{-channel} & \\text{precision} & \\text{time} \\\\ \\hline  \\hline 0 & 1.6309 \\times 10^{6} & 91769 & 17 & 0.4 \\\\ \\hline 2 & 7.431 \\times 10^{5} & -1.5082 \\times 10^{5} & 5.9 & 0.6 \\\\ \\hline 4 & 7.4612 \\times 10^{5} & 6.8539 \\times 10^{5} & 0.089 & 0.6 \\\\ \\hline 6 & 7.4611 \\times 10^{5} & 7.4329 \\times 10^{5} & 0.0038 & 0.7 \\\\ \\hline 8 & 7.4611 \\times 10^{5} & 7.4472 \\times 10^{5} & 0.0019 & 0.7 \\\\ \\hline  \\end{array} $$"
      ],
      "text/plain": [
       "<IPython.core.display.Math object>"
      ]
     },
     "metadata": {},
     "output_type": "display_data"
    }
   ],
   "source": [
    "Table(data3).display()"
   ]
  },
  {
   "cell_type": "markdown",
   "metadata": {},
   "source": [
    "# Dependence on $x$"
   ]
  },
  {
   "cell_type": "markdown",
   "metadata": {},
   "source": [
    "Let us come back to Liouville theory with $c>25$ and draw the dependence on $x$."
   ]
  },
  {
   "cell_type": "code",
   "execution_count": 9,
   "metadata": {
    "collapsed": false
   },
   "outputs": [],
   "source": [
    "N = 20\n",
    "\n",
    "xs = [i*1.0/N for i in range(1, N)]\n",
    "\n",
    "Ps = [1.3, 1.01, .45, .22]\n",
    "\n",
    "Pcutoff = 3\n",
    "\n",
    "spline = 30\n",
    "\n",
    "b4 = 1.3579\n",
    "\n",
    "data4 = Data(spline = spline, x = xs, b = b4, Ps = Ps, Pcutoff = Pcutoff, \n",
    "              Nmax = [0, 2, 4], reduced = True)"
   ]
  },
  {
   "cell_type": "code",
   "execution_count": 10,
   "metadata": {
    "collapsed": false
   },
   "outputs": [
    {
     "data": {
      "image/png": "[encoded data removed]",
      "text/plain": [
       "<matplotlib.figure.Figure at 0x7fa1fbbf1518>"
      ]
     },
     "metadata": {},
     "output_type": "display_data"
    }
   ],
   "source": [
    "graph = Graph(data4, Nmax = [0, 2])\n",
    "\n",
    "graph.show()"
   ]
  },
  {
   "cell_type": "code",
   "execution_count": null,
   "metadata": {
    "collapsed": false
   },
   "outputs": [],
   "source": []
  }
 ],
 "metadata": {
  "kernelspec": {
   "display_name": "Python 3",
   "language": "python",
   "name": "python3"
  },
  "language_info": {
   "codemirror_mode": {
    "name": "ipython",
    "version": 3
   },
   "file_extension": ".py",
   "mimetype": "text/x-python",
   "name": "python",
   "nbconvert_exporter": "python",
   "pygments_lexer": "ipython3",
   "version": "3.5.2"
  }
 },
 "nbformat": 4,
 "nbformat_minor": 0
}
