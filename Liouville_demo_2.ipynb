{
 "cells": [
  {
   "cell_type": "markdown",
   "metadata": {},
   "source": [
    "# Conformal bootstrap approach to Liouville theory\n",
    "In this notebook we numerically check crossing symmetry in Liouville theory and generalized minimal models."
   ]
  },
  {
   "cell_type": "markdown",
   "metadata": {},
   "source": [
    "## Liouville theory with $c\\notin]-\\infty,1]$\n",
    "Let us numerically check the identity\n",
    "$$\n",
    "\\int_{\\frac{Q}{2}+i\\mathbb{R}} d\\alpha\\ C_{\\alpha_1,\\alpha_2,Q-\\alpha} C_{\\alpha,\\alpha_3,\\alpha_4} \\mathcal{F}^{(s)}_\\alpha(z) \\mathcal{F}^{(s)}_\\alpha(\\bar z) = \\int_{\\frac{Q}{2}+i\\mathbb{R}} d\\alpha\\ C_{\\alpha_2,\\alpha_3,Q-\\alpha} C_{\\alpha,\\alpha_1,\\alpha_4} \\mathcal{F}^{(t)}_\\alpha(z) \\mathcal{F}^{(t)}_\\alpha(\\bar z)\n",
    "$$\n",
    "where $c=1+6Q^2$ is the central charge, $\\alpha_1,\\cdots,\\alpha_4$ are four momentums, $C_{\\alpha_1,\\alpha_2,Q-\\alpha}$ is a DOZZ structure constant, and $\\mathcal{F}^{(s)}_\\alpha(z)$ is an $s$-channel conformal block. A momentum $\\alpha$ can alternatively be parametrized by $P$ such that $\\alpha = \\frac{Q}{2}+iP$."
   ]
  },
  {
   "cell_type": "code",
   "execution_count": null,
   "metadata": {
    "collapsed": false
   },
   "outputs": [],
   "source": [
    "from __future__ import division\n",
    "from CFT import *\n",
    "from Correlators import *\n",
    "from Data import *\n",
    "from IPython.display import display, Math\n",
    "import mpmath"
   ]
  },
  {
   "cell_type": "code",
   "execution_count": null,
   "metadata": {
    "collapsed": false
   },
   "outputs": [],
   "source": [
    "c0 = 15 + 4*1j\n",
    "Ps0 = [1.3, 1.01, .45, .22]\n",
    "b0 = Charge('c', c0).get('b')\n",
    "display(Math('b_0 = '+ str(b0)))\n",
    "z0 = .3 + .2*1j\n",
    "q0 = mpmath.qfrom(m = z0)  # The elliptic nome that corresponds to the position z0\n",
    "N0 = 6                     # A cutoff parameter that controls the precision of blocks"
   ]
  },
  {
   "cell_type": "code",
   "execution_count": null,
   "metadata": {
    "collapsed": false
   },
   "outputs": [],
   "source": [
    "s_channel0 = FourPoint(b = b0, Ps = Ps0, Nmax = N0).value(q = q0)\n",
    "t_channel0 = FourPoint(t_channel = True, b = b0, Ps = Ps0, Nmax = N0).value(q = q0)\n",
    "display(Math(str(s_channel0)))\n",
    "display(Math(str(t_channel0)))"
   ]
  },
  {
   "cell_type": "markdown",
   "metadata": {},
   "source": [
    "## Liouville theory with $c\\leq 1$\n",
    "Same thing with the structure constant $\\hat C$ instead of $C$. We use the variable $\\beta= ib$, which is real if $c\\leq 1$."
   ]
  },
  {
   "cell_type": "code",
   "execution_count": null,
   "metadata": {
    "collapsed": false
   },
   "outputs": [],
   "source": [
    "c1 = .237\n",
    "Ps1 = Ps0\n",
    "beta1 = Charge('c', c1).get('beta')\n",
    "display(Math(r'\\beta_1 = '+ str(beta1)))\n",
    "z1 = z0\n",
    "q1 = mpmath.qfrom(m = z1)\n",
    "N1 = 6  \n",
    "U1 = 60    # A cutoff parameter that controls the precision of structure constants"
   ]
  },
  {
   "cell_type": "code",
   "execution_count": null,
   "metadata": {
    "collapsed": false
   },
   "outputs": [],
   "source": [
    "s_channel1 = Z4(beta = beta1, Ps = Ps1, Nmax = N1, Ucutoff = U1).value(q = q1)\n",
    "t_channel1 = Z4(t_channel = True, beta = beta1, Ps = Ps1, Nmax = N1, Ucutoff = U1).value(q = q1)\n",
    "display(Math(str(s_channel1)))\n",
    "display(Math(str(t_channel1)))"
   ]
  },
  {
   "cell_type": "markdown",
   "metadata": {},
   "source": [
    "## Generalized minimal model"
   ]
  },
  {
   "cell_type": "code",
   "execution_count": null,
   "metadata": {
    "collapsed": true
   },
   "outputs": [],
   "source": [
    "c2s = [.3 + .8 * 1j, -.5 + .7 * 1j, 3 - .1 * 1j, .789, -4.56]\n",
    "pairs = [[2, 3], [3, 2], [4, 2], [3, 3]]\n",
    "# pairs = [[1, 2]] * 4 \n",
    "z2 = 0.23\n",
    "N2 = 10\n",
    "\n",
    "\"\"\" We compute the four-point functions in both channels, \n",
    "using the high-level function 'Data'. \n",
    "\"\"\"\n",
    "datas = []\n",
    "for c in c2s:\n",
    "    charge = Charge('c', c)\n",
    "    fields = [Dimension('degenerate', pair, charge) for pair in pairs]\n",
    "    datas.append(Data(theory = 'GMM', fields = fields, x = [z2], Nmax = N2))"
   ]
  },
  {
   "cell_type": "code",
   "execution_count": null,
   "metadata": {
    "collapsed": false
   },
   "outputs": [],
   "source": [
    "\"\"\" We display the results. \"\"\"\n",
    "table = Table(datas, parameter_values = c2s, parameter = 'c', digits = 7)\n",
    "table.display()"
   ]
  },
  {
   "cell_type": "markdown",
   "metadata": {},
   "source": [
    "## Kac tables of minimal models\n",
    "The program can also display Kac tables."
   ]
  },
  {
   "cell_type": "code",
   "execution_count": null,
   "metadata": {
    "collapsed": false
   },
   "outputs": [],
   "source": [
    "print Charge('minimal', [4, 3]).KacTable()"
   ]
  },
  {
   "cell_type": "code",
   "execution_count": null,
   "metadata": {
    "collapsed": false
   },
   "outputs": [],
   "source": [
    "pair = [10, 7]\n",
    "print Charge('minimal', pair).KacTable()"
   ]
  }
 ],
 "metadata": {
  "kernelspec": {
   "display_name": "Python 2",
   "language": "python",
   "name": "python2"
  },
  "language_info": {
   "codemirror_mode": {
    "name": "ipython",
    "version": 2
   },
   "file_extension": ".py",
   "mimetype": "text/x-python",
   "name": "python",
   "nbconvert_exporter": "python",
   "pygments_lexer": "ipython2",
   "version": "2.7.6"
  }
 },
 "nbformat": 4,
 "nbformat_minor": 0
}
