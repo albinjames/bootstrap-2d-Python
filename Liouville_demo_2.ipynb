{
 "cells": [
  {
   "cell_type": "markdown",
   "metadata": {},
   "source": [
    "# Conformal bootstrap approach to Liouville theory\n",
    "In this notebook we numerically check crossing symmetry in Liouville theory and generalized minimal models."
   ]
  },
  {
   "cell_type": "markdown",
   "metadata": {},
   "source": [
    "## Liouville theory with $c\\notin]-\\infty,1]$\n",
    "Let us numerically check the identity\n",
    "$$\n",
    "\\int_{\\frac{Q}{2}+i\\mathbb{R}} d\\alpha\\ C_{\\alpha_1,\\alpha_2,Q-\\alpha} C_{\\alpha,\\alpha_3,\\alpha_4} \\mathcal{F}^{(s)}_\\alpha(z) \\mathcal{F}^{(s)}_\\alpha(\\bar z) = \\int_{\\frac{Q}{2}+i\\mathbb{R}} d\\alpha\\ C_{\\alpha_2,\\alpha_3,Q-\\alpha} C_{\\alpha,\\alpha_1,\\alpha_4} \\mathcal{F}^{(t)}_\\alpha(z) \\mathcal{F}^{(t)}_\\alpha(\\bar z)\n",
    "$$\n",
    "where $c=1+6Q^2$ is the central charge, $\\alpha_1,\\cdots,\\alpha_4$ are four momentums, $C_{\\alpha_1,\\alpha_2,Q-\\alpha}$ is a DOZZ structure constant, and $\\mathcal{F}^{(s)}_\\alpha(z)$ is an $s$-channel conformal block. A momentum $\\alpha$ can alternatively be parametrized by $P$ such that $\\alpha = \\frac{Q}{2}+iP$."
   ]
  },
  {
   "cell_type": "code",
   "execution_count": null,
   "metadata": {
    "collapsed": false
   },
   "outputs": [],
   "source": [
    "from __future__ import division, print_function\n",
    "from CFT import *\n",
    "from Correlators import *\n",
    "from Data import *\n",
    "from IPython.display import display, Math\n",
    "import mpmath"
   ]
  },
  {
   "cell_type": "code",
   "execution_count": null,
   "metadata": {
    "collapsed": false
   },
   "outputs": [],
   "source": [
    "c = 15 + 4*1j             # the central charge\n",
    "Ps = [1.3, 1.01, .45, .22]   # the momentums\n",
    "z = .3 + .2*1j            # the position\n",
    "N = 6                     # a cutoff parameter that controls the precision of blocks\n",
    "\n",
    "display(Math('c = '+ str(c)))"
   ]
  },
  {
   "cell_type": "code",
   "execution_count": null,
   "metadata": {
    "collapsed": false
   },
   "outputs": [],
   "source": [
    "b = Charge('c', c).get('b')   # the coupling constant\n",
    "q = mpmath.qfrom(m = z)       # the elliptic nome \n",
    "\n",
    "s_channel = FourPoint(b = b, Ps = Ps, Nmax = N).value(q = q)\n",
    "t_channel = FourPoint(t_channel = True, b = b, Ps = Ps, Nmax = N).value(q = q)\n",
    "\n",
    "display(Math(r's{\\rm -channel}:  ' + str(s_channel)))\n",
    "display(Math(r't{\\rm -channel}:  ' + str(t_channel)))"
   ]
  },
  {
   "cell_type": "code",
   "execution_count": null,
   "metadata": {
    "collapsed": false
   },
   "outputs": [],
   "source": [
    "M = 20\n",
    "zs = [.01 + i*1.0/M for i in range(M)]   # many values of the position z\n",
    "\n",
    "\"\"\" We compute the four-point functions for all these values, \n",
    "using the high-level function 'Data'. \n",
    "\"\"\"\n",
    "data = Data(spline = 30, x = zs, b = b, Ps = Ps, Pcutoff = 3, \n",
    "              Nmax = [0, 2, 4], reduced = True)"
   ]
  },
  {
   "cell_type": "code",
   "execution_count": null,
   "metadata": {
    "collapsed": true
   },
   "outputs": [],
   "source": [
    "graph = Graph(data, Nmax = [2, 4])\n",
    "\n",
    "graph.show()"
   ]
  },
  {
   "cell_type": "markdown",
   "metadata": {},
   "source": [
    "## Liouville theory with $c\\leq 1$\n",
    "Same thing with the structure constant $\\hat C$ instead of $C$. We use the variable $\\beta= ib$, which is real if $c\\leq 1$."
   ]
  },
  {
   "cell_type": "code",
   "execution_count": null,
   "metadata": {
    "collapsed": false
   },
   "outputs": [],
   "source": [
    "c = .237    # a central charge less than one\n",
    "\n",
    "Ps = [1.3, 1.01, .45, .22]   # the momentums\n",
    "z = .3 + .2*1j            # the position\n",
    "N = 6                     # a cutoff parameter that controls the precision of blocks\n",
    "\n",
    "U = 60      # a cutoff parameter that controls the precision of structure constants\n",
    "\n",
    "display(Math('c = '+ str(c)))"
   ]
  },
  {
   "cell_type": "code",
   "execution_count": null,
   "metadata": {
    "collapsed": false
   },
   "outputs": [],
   "source": [
    "beta = Charge('c', c).get('beta')   # the real coupling constant\n",
    "q = mpmath.qfrom(m = z)             # the elliptic nome \n",
    "\n",
    "s_channel = Z4(beta = beta, Ps = Ps, Nmax = N, Ucutoff = U).value(q = q)\n",
    "t_channel = Z4(t_channel = True, beta = beta, Ps = Ps, Nmax = N, Ucutoff = U).value(q = q)\n",
    "\n",
    "display(Math(r's{\\rm -channel}:  ' + str(s_channel)))\n",
    "display(Math(r't{\\rm -channel}:  ' + str(t_channel)))"
   ]
  },
  {
   "cell_type": "markdown",
   "metadata": {},
   "source": [
    "## Generalized minimal model"
   ]
  },
  {
   "cell_type": "code",
   "execution_count": null,
   "metadata": {
    "collapsed": true
   },
   "outputs": [],
   "source": [
    "cs = [.3 + .8 * 1j, -.5 + .7 * 1j, 3 - .1 * 1j, .789, -4.56]   # a number of values of c\n",
    "pairs = [[2, 3], [3, 2], [4, 2], [3, 3]]           # the labels of four degenerate fields \n",
    "z = 0.23\n",
    "N = 10\n",
    "\n",
    "\"\"\" We compute the four-point functions in both channels, \n",
    "using the high-level function 'Data'. \n",
    "\"\"\"\n",
    "datas = []\n",
    "for c in cs:\n",
    "    charge = Charge('c', c)\n",
    "    fields = [Dimension('degenerate', pair, charge) for pair in pairs]\n",
    "    datas.append(Data(theory = 'GMM', fields = fields, x = [z], Nmax = N))"
   ]
  },
  {
   "cell_type": "code",
   "execution_count": null,
   "metadata": {
    "collapsed": false
   },
   "outputs": [],
   "source": [
    "\"\"\" We display the results. \"\"\"\n",
    "table = Table(datas, parameter_values = cs, parameter = 'c', digits = 7)\n",
    "table.display()"
   ]
  },
  {
   "cell_type": "markdown",
   "metadata": {},
   "source": [
    "## Kac tables of minimal models\n",
    "The necessary code is freely available on GitHub. In addition to computing four-point functions, it can do more basic things, such as displaying Kac tables of minimal models."
   ]
  },
  {
   "cell_type": "code",
   "execution_count": null,
   "metadata": {
    "collapsed": false
   },
   "outputs": [],
   "source": [
    "print( Charge('minimal', [4, 3]).KacTable() )   # the Ising model"
   ]
  },
  {
   "cell_type": "code",
   "execution_count": null,
   "metadata": {
    "collapsed": false
   },
   "outputs": [],
   "source": [
    "pair = [10, 7]\n",
    "print( Charge('minimal', pair).KacTable() )      # another minimal model"
   ]
  },
  {
   "cell_type": "code",
   "execution_count": null,
   "metadata": {
    "collapsed": true
   },
   "outputs": [],
   "source": []
  }
 ],
 "metadata": {
  "kernelspec": {
   "display_name": "Python 3",
   "language": "python",
   "name": "python3"
  },
  "language_info": {
   "codemirror_mode": {
    "name": "ipython",
    "version": 3
   },
   "file_extension": ".py",
   "mimetype": "text/x-python",
   "name": "python",
   "nbconvert_exporter": "python",
   "pygments_lexer": "ipython3",
   "version": "3.5.2"
  }
 },
 "nbformat": 4,
 "nbformat_minor": 0
}
