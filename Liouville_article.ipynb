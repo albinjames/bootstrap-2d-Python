{
 "cells": [
  {
   "cell_type": "markdown",
   "metadata": {},
   "source": [
    "This notebook displays sample calculations which support the claims of the article \"Liouville theory with a central charge less than one\", by Sylvain Ribault and Raoul Santachiara."
   ]
  },
  {
   "cell_type": "code",
   "execution_count": null,
   "metadata": {},
   "outputs": [],
   "source": [
    "from __future__ import print_function\n",
    "from CFT import *\n",
    "from Data import *\n",
    "import math\n",
    "from IPython.display import display, Math         "
   ]
  },
  {
   "cell_type": "markdown",
   "metadata": {},
   "source": [
    "# 1 Introduction"
   ]
  },
  {
   "cell_type": "markdown",
   "metadata": {},
   "source": [
    "# 2 Liouville theory in the conformal bootstrap approach"
   ]
  },
  {
   "cell_type": "markdown",
   "metadata": {},
   "source": [
    "## 2.1 Definition and spectrum of Liouville theory"
   ]
  },
  {
   "cell_type": "markdown",
   "metadata": {},
   "source": [
    "Entering a value for the central charge, and converting to other notations, including $b$ and $Q$ such that \n",
    "$$\n",
    "c = 1 + 6Q^2 \\quad , \\quad Q= b+ \\frac{1}{b}\n",
    "$$"
   ]
  },
  {
   "cell_type": "code",
   "execution_count": null,
   "metadata": {},
   "outputs": [],
   "source": [
    "c = 27.123\n",
    "charge1 = Charge('c', c)\n",
    "b = charge1.get('b')\n",
    "print( 'b =' , b )\n",
    "charge1.display()\n",
    "\n",
    "b = 2.1 * 1j\n",
    "charge2 = Charge('b', b)\n",
    "charge2.display()"
   ]
  },
  {
   "cell_type": "markdown",
   "metadata": {},
   "source": [
    "Entering the conformal dimension of a primary field, and converting to other notations, including $\\alpha$ and $P$ such that \n",
    "$$\n",
    "\\Delta = \\alpha(Q-\\alpha) = \\frac{Q^2}{4} + P^2\n",
    "$$"
   ]
  },
  {
   "cell_type": "code",
   "execution_count": null,
   "metadata": {},
   "outputs": [],
   "source": [
    "c = 12.123\n",
    "Delta = 1.1\n",
    "primary = Dimension('Delta', Delta, Charge('c', c))\n",
    "primary.display()"
   ]
  },
  {
   "cell_type": "markdown",
   "metadata": {},
   "source": [
    "## 2.2 Crossing symmetry equations for correlation functions"
   ]
  },
  {
   "cell_type": "markdown",
   "metadata": {},
   "source": [
    "Large $\\Delta$ asymptotics of conformal blocks:\n",
    " $$\\mathcal{F}^{(s)}_\\alpha(\\alpha_i|z_i) \\underset{|\\Delta| \\to \\infty}{\\sim} (16q)^{\\Delta}\\quad \\text{with} \\quad |q| < 1$$\n",
    " To check this, we will study the ratio of the two sides as $\\Delta \\to \\infty$, and see if it has a constant limit."
   ]
  },
  {
   "cell_type": "code",
   "execution_count": null,
   "metadata": {},
   "outputs": [],
   "source": [
    "\"\"\" We give values to the momentums P_i and the position q. \"\"\"\n",
    "c = 32.1\n",
    "momentums = [0.3, .123, 0.79, 0.82]\n",
    "q = 0.1\n",
    "\n",
    "\"\"\" We build a numerical block, which is a function of Delta.\n",
    "This depends on a cutoff Nmax, which is defined in the Appendix. \n",
    "\"\"\"\n",
    "dimensions = [Dimension('P', P, Charge('c', c)) for P in momentums]\n",
    "block = Block(dims = dimensions, Nmax = 2)\n",
    "numerical_block = BlockNum(block, q)\n",
    "\n",
    "\"\"\" We choose a number of values of Delta. \"\"\"\n",
    "Deltas = [.01 + i**2 * .15 for i in range(20)]\n",
    "\n",
    "\"\"\" We compute the corresponding values of the ratio. \"\"\"\n",
    "ratio = [(numerical_block.value(Delta) * (16*q)**(-Delta)).real\n",
    "         for Delta in Deltas]\n",
    "\n",
    "\"\"\" The rest is plotting. \"\"\"\n",
    "plt.figure('Asymptotics of a conformal block')\n",
    "plt.scatter(Deltas, ratio, marker = 'o', color = 'blue')\n",
    "plt.title('Large $\\Delta$ asymptotics of a conformal block')\n",
    "plt.ylabel('ratio')\n",
    "plt.xlabel('dimension $\\Delta$')\n",
    "plt.legend(loc = 'upper right')\n",
    "plt.show()    "
   ]
  },
  {
   "cell_type": "markdown",
   "metadata": {},
   "source": [
    "## 2.3 Solving the crossing symmetry equations"
   ]
  },
  {
   "cell_type": "markdown",
   "metadata": {},
   "source": [
    "Asyptotic behaviour of the function $\\Upsilon_{b}$:\n",
    "$$\\log \\Upsilon_b(\\tfrac{Q}{2}  + iP) \\underset{P\\to \\infty}{=} -P^2\\log|P| +\\frac32 P^2 + o(P^2)\n",
    "$$\n",
    "We reformulate this as $\\underset{P\\to\\infty}{\\lim} g(P) = \\frac32$, where \n",
    "$$\n",
    "g(P) =  \\frac{1}{P^2} \\log \\Upsilon_b(\\tfrac{Q}{2}  + iP) + \\log|P| \n",
    "$$\n",
    "which we proceed to check directly."
   ]
  },
  {
   "cell_type": "code",
   "execution_count": null,
   "metadata": {},
   "outputs": [],
   "source": [
    "\"\"\" We compute some values of our function g. \"\"\"\n",
    "b = 2.1\n",
    "Ps = [1.2 + i for i in range(20)]\n",
    "gs = [cmath.log(Upsilons(b = b, Plist = [[P, True]]).integral())/P**2 + cmath.log(P) \n",
    "             for P in Ps]\n",
    "\n",
    "\"\"\" The rest is plotting. \"\"\"\n",
    "plt.figure('Asymptotics of the Upsilon function')\n",
    "plt.scatter(Ps, gs, marker ='o', color ='blue')\n",
    "plt.title(r'Large $P$ asymptotics of $\\Upsilon_b(\\frac{Q}{2}+iP)$')\n",
    "plt.ylabel('function $g(P)$')\n",
    "plt.xlabel('momentum $P$')\n",
    "plt.legend(loc='upper right')\n",
    "plt.show()"
   ]
  },
  {
   "cell_type": "markdown",
   "metadata": {},
   "source": [
    "Let us check crossing symmetry of DOZZ - Liouville theory for complex central charges. \n",
    "This amounts to checking the equality\n",
    "$$\n",
    "\\int_{\\frac{Q}{2}+i\\mathbb{R}} d\\alpha_s\\ C^\\text{DOZZ}(\\alpha_1,\\alpha_2,Q-\\alpha_s) C^\\text{DOZZ}(\\alpha_s,\\alpha_3,\\alpha_4)\\, \n",
    "\\Big|\\mathcal{F}^{(s)}_{\\alpha_s}(\\alpha_i|z_i)\\Big|^2\n",
    "\\\\\n",
    "=\n",
    "\\int_{\\frac{Q}{2}+i\\mathbb{R}} d\\alpha_t\\ C^\\text{DOZZ}(\\alpha_2,\\alpha_3,Q-\\alpha_t) C^\\text{DOZZ}(\\alpha_t,\\alpha_4,\\alpha_1)\\, \n",
    "\\Big|\\mathcal{F}^{(t)}_{\\alpha_t}(\\alpha_i|z_i)\\Big|^2\n",
    "$$\n",
    "We start with an example."
   ]
  },
  {
   "cell_type": "code",
   "execution_count": null,
   "metadata": {},
   "outputs": [],
   "source": [
    "\"\"\" We choose values for b, the four momentums, and the cross-ratio x. \"\"\"\n",
    "b1 = 1.3428\n",
    "P1s = [1.3, 1.01, .45, .22]\n",
    "x1 = 0.363\n",
    "\n",
    "\"\"\" We build the corresponding objects, and display the resulting central charge and conformal dimensions. \"\"\"\n",
    "charge1 = Charge('b', b1)\n",
    "display(Math(('c=' + '{:.3f}'.format(float(charge1.get('c'))))))\n",
    "Deltas = map(lambda x: float('{:.3f}'.format(x)), \n",
    "             [float(Dimension('P', P, charge1).get('Delta')) for P in P1s])\n",
    "display(Math(r'\\Delta_i =' + str(Deltas)))\n",
    "\n",
    "\"\"\" We compute the four-point functions in both channels for our chosen parameters. \n",
    "We also specify a number of parameters of the numerical evaluation, as explained in the Appendix.\n",
    "The parameter which controls the precision is the cutoff Nmax in the computation of the conformal blocks.\n",
    "\"\"\" \n",
    "data1 = Data(theory = 'Liouville', b = b1, Ps = P1s, x = [x1], Nmax = [0, 2, 4, 6], Pcutoff = 3, spline = 60)"
   ]
  },
  {
   "cell_type": "code",
   "execution_count": null,
   "metadata": {},
   "outputs": [],
   "source": [
    "\"\"\" We display the results. We can choose how many digits we keep. \"\"\"\n",
    "Table(data1, digits = 3).display()"
   ]
  },
  {
   "cell_type": "markdown",
   "metadata": {},
   "source": [
    "We now check crossing symmetry for a number of values of the central charge. \n"
   ]
  },
  {
   "cell_type": "code",
   "execution_count": null,
   "metadata": {},
   "outputs": [],
   "source": [
    "\"\"\" We choose several values of c, the four momentums, and the cross-ratio x. We also choose Nmax. \"\"\"\n",
    "c2s = [36.74, 17.55, 2.12, 3 + 4*1j, .5 + 2*1j, -1 + 2.1*1j]\n",
    "P2s = [1.3, 1.01, .45, .22]\n",
    "x2 = 0.26\n",
    "Nmax2 = 6\n",
    "\n",
    "\"\"\" We compute the four-point functions in both channels. \"\"\"\n",
    "b2s = [complex(Charge('c', c).get('b')) for c in c2s]\n",
    "data2s = [Data(theory = 'Liouville', b = b, Ps = P2s, x = [x2], Nmax = Nmax2, Pcutoff = 3) for b in b2s]"
   ]
  },
  {
   "cell_type": "code",
   "execution_count": null,
   "metadata": {},
   "outputs": [],
   "source": [
    "\"\"\" We display the results. Correlation functions can be complex: we display the real parts, but the relative\n",
    "difference between the channels is computed from the complex values. \"\"\"\n",
    "table2 = Table(data2s, parameter_values = c2s, parameter = 'c', digits = 5)\n",
    "table2.display()\n",
    "\n",
    "\"\"\" For use in the article, we print the Latex source of the table, without computation times. \"\"\"\n",
    "print( Table(data2s, parameter_values = c2s, parameter = 'c', digits = 5, time = False).tables[0][0] )"
   ]
  },
  {
   "cell_type": "markdown",
   "metadata": {},
   "source": [
    "# 3 The problem with $c\\leq 1$"
   ]
  },
  {
   "cell_type": "markdown",
   "metadata": {},
   "source": [
    "## 3.1 The three-point structure constant"
   ]
  },
  {
   "cell_type": "markdown",
   "metadata": {},
   "source": [
    "We plot the three-point structure constant $C^{c\\leq 1}$ \n",
    "as a function of the momentums, for real values of the momentums.\n",
    "Since $C^{c\\leq 1}$ has poles, we actually plot\n",
    "$C^{c\\leq 1}(P_1, P_2, P_3+i\\epsilon)$ as a function of $P_3$, and the poles manifest themselves as peaks: the smaller $\\epsilon$, the sharper the peaks."
   ]
  },
  {
   "cell_type": "code",
   "execution_count": null,
   "metadata": {},
   "outputs": [],
   "source": [
    "\"\"\" We choose the parameters. \"\"\"\n",
    "beta = 1.103\n",
    "P1, P2 = 0.72, 0.95\n",
    "epsilon = 5*10**(-3)\n",
    "\n",
    "\"\"\" We also choose the range of values of P3, the number of values of P3. \"\"\"\n",
    "Pmin, Pmax = P1 - 0.1, P2 + 0.8\n",
    "points = 200\n",
    "\n",
    "\"\"\" We compute the values of P3 and of the three-point structure constant. \"\"\"\n",
    "Ps = [Pmin+ (Pmax - Pmin) * i / points + 1j * epsilon for i in range(points)]\n",
    "Cs = [Z3(beta = beta, Ps = [P1, P2, P]).upsilons.integral().real for P in Ps]\n",
    "\n",
    "\"\"\" The rest is plotting. \"\"\"\n",
    "plt.figure('Momentum dependence of the three-point structure constant')\n",
    "plt.plot(Ps, Cs, color ='red')\n",
    "plt.title(r'$C^{c\\leq 1}(P_1=%.2f, P_2=%.2f, P_3+i\\epsilon)$ as a function of $P_3$' %(P1, P2))\n",
    "plt.ylabel(r'structure constant')\n",
    "plt.xlabel(r'$P_3$')\n",
    "plt.show()"
   ]
  },
  {
   "cell_type": "markdown",
   "metadata": {},
   "source": [
    "We numerically test our equation which involves structure constants at two different values of the central charge, parametrized by $\\beta$ and $\\beta' = \\frac{\\beta}{\\sqrt{2}}$.\n",
    "To do this we adopt the notations of Hadasz, Jaskolski and Suchanek, which differ the notations in our article. In these notations, the relation becomes\n",
    "$$ \n",
    "\\frac{16^{-4P^2}C_{(\\beta)}^{c\\leq 1}(P,P_0,-P)}{C_{(\\beta')}^{c\\leq 1}\\left(\\frac{1}{4\\beta'},-\\frac{1}{4\\beta'},\\sqrt{2}P\\right)C_{(\\beta')}^{c\\leq 1}\\left(\\frac{1}{4\\beta'},\\frac{P_0}{\\sqrt{2}},-\\sqrt{2}P\\right)}=g_{\\beta}(P_0)\n",
    "$$\n",
    "where\n",
    "$$\n",
    "g_{\\beta}(P_0) = \\mu_\\beta 2^{(-\\beta^{-1}+\\frac{3}{2}\\beta-2 P_0) P_0}\\frac{\\Upsilon_{\\beta}\\left(\\frac{1}{2}(\\beta+\\beta^{-1})+P_0\\right)}{\\Upsilon_{\\beta}\\left(\\frac{1}{2}\\beta^{-1}+P_0\\right)}\n",
    "$$\n",
    "and \n",
    "$$\n",
    "\\mu_\\beta = 2^{\\frac{7}{4}-2\\beta^{-2}-\\frac{1}{2}\\beta^{2}}\\beta^{-2+4 \\beta^{-2}}\\gamma(\\beta^{-2})^2\\left(\\frac{\\Upsilon_{\\beta}(\\beta)}{\\Upsilon_{\\frac{\\beta}{\\sqrt{2}}}(\\frac{\\beta}{\\sqrt{2}})}\\right)^2 \\frac{1}{\\Upsilon_{\\beta}(\\frac{1}{2}\\beta)}\n",
    "$$"
   ]
  },
  {
   "cell_type": "code",
   "execution_count": null,
   "metadata": {},
   "outputs": [],
   "source": [
    "\"\"\" We choose values for the parameters beta, P, P0. \"\"\"\n",
    "beta = 0.3\n",
    "P0 = 0.19\n",
    "P = 0.51 + 0.19*1j\n",
    "\n",
    "\"\"\" We compute the ratio of structure constants. \"\"\"\n",
    "betap = beta / cmath.sqrt(2)\n",
    "p = 1.0/4/betap\n",
    "constants = ( (16)**(-4*P**2) * Z3([-P, P0, P], beta).upsilons.integral() \n",
    "         / Z3([-p, p, cmath.sqrt(2)*P], betap).upsilons.integral()\n",
    "         / Z3([p, P0/cmath.sqrt(2), -cmath.sqrt(2)*P], betap).upsilons.integral() )\n",
    "\n",
    "\"\"\" We compute the right-hand side of the relation. \"\"\"\n",
    "def U(beta, x):   \n",
    "    return Upsilons(b = beta, Plist = [[1j * ((beta + beta**(-1))/2 - x), True]]).integral()\n",
    "mu = ( 2**(7.0/4 - 2*beta**(-2) - beta**2/2) * beta**(-2 + 4*beta**(-2))\n",
    "      * mpmath.gamma(beta**(-2))**2 / mpmath.gamma(1 - beta**(-2))**2\n",
    "      * U(beta, beta)**2 / U(betap, betap)**2 / U(beta, beta/2) )\n",
    "g = ( mu * 2**((-1.0/beta + 3.0/2*beta - 2*P0) * P0) \n",
    "     * U(beta, (beta + beta**(-1))/2 + P0)/U(beta, 1.0/2/beta + P0) )\n",
    "\n",
    "\"\"\" We print the two sides. They should be equal. \"\"\"\n",
    "print( constants )\n",
    "print( g )"
   ]
  },
  {
   "cell_type": "markdown",
   "metadata": {},
   "source": [
    "## 3.2 Why timelike Liouville theory does not exist"
   ]
  },
  {
   "cell_type": "markdown",
   "metadata": {},
   "source": [
    "## 3.3 Proposal for the spectrum and correlation functions"
   ]
  },
  {
   "cell_type": "markdown",
   "metadata": {},
   "source": [
    "We check that our integral on $\\mathbb{R}+i\\epsilon$ does not depend on $\\epsilon$. \n",
    "Numerically, this is only true provided $\\epsilon$ is neither too small, nor too large."
   ]
  },
  {
   "cell_type": "code",
   "execution_count": null,
   "metadata": {},
   "outputs": [],
   "source": [
    "\"\"\" We choose some parameters. \"\"\"\n",
    "c = 0.5645\n",
    "Pi = [0.32, 0.71, .45, .22]\n",
    "x = .4\n",
    "\n",
    "\"\"\" We choose a number of values of epsilon. \"\"\"\n",
    "epsilons = [2, 1, 0.1, 0.01, 0.001]\n",
    "\n",
    "\"\"\" We compute the s-channel four-point function and print the results. \"\"\"\n",
    "beta = float(Charge('c', c).get('beta'))\n",
    "q = complex(mpmath.qfrom(m= x))\n",
    "for epsilon in epsilons:\n",
    "    fourpoint= Z4(t_channel = False, Ps = Pi, Ucutoff = 30, Nmax = 4, \n",
    "                  beta = beta, epsilon = epsilon).value(q)\n",
    "    print(  (\" epsilon = %.4f, integral = %.5f + i %.5f \" %(epsilon, fourpoint.real, fourpoint.imag)) ) "
   ]
  },
  {
   "cell_type": "markdown",
   "metadata": {},
   "source": [
    "We plot the behaviour of the integrand of the four-point function,\n",
    "$$\n",
    "\\text{Integrand} = C^{c\\leq 1}(P_1,P_2,P_s) C^{c\\leq 1}(-P_s,P_3,P_4)\\, \n",
    "\\Big|\\mathcal{F}^{(s)}_{P_s}(P_i|z_i)\\Big|^2\n",
    "$$\n",
    "when the $s$-channel momentum $P_s$ varies along the integration line \n",
    "$$\n",
    "P_s = P + i\\epsilon \\quad , \\quad P \\in \\mathbb{R}\n",
    "$$\n",
    "The imaginary shift of the integration line is designed to avoid the poles of the integrands.\n",
    "We draw the positions of the poles as blue lines for the poles from the structure constants, and green lines for the poles from the conformal blocks, and label the poles as \n",
    "$$\n",
    "P_{(m, n)} = m \\frac{\\beta}{2} + n \\frac{\\beta^{-1}}{2}\n",
    "$$\n",
    "We find peaks of the integrand near the positions of the poles.\n",
    "The absence of apparent peaks at certain poles of the conformal blocks, because the residues are too small."
   ]
  },
  {
   "cell_type": "code",
   "execution_count": null,
   "metadata": {},
   "outputs": [],
   "source": [
    "\"\"\" We choose the various parameters: beta, the momentums P_1, P2, P3, P4, the cross-ratio x. \"\"\"\n",
    "beta = 1.103\n",
    "Pi = [0.12, 0.7, 0.72, 0.95]\n",
    "x = 0.4\n",
    "\n",
    "\"\"\" We choose the cutoff Nmax for the computation of conformal blocks, the shift of the \n",
    "integration line.\n",
    "\"\"\"\n",
    "Nmax = 8\n",
    "epsilon = 3*10**(-3)\n",
    "\n",
    "\"\"\" We choose an interval of values of the s-channel momentum Ps, a number of points, and\n",
    "maximum values of m, n for the poles which we display. \"\"\"\n",
    "Pmin, Pmax = 0., 1.2\n",
    "Npoint = 100\n",
    "n_max, m_max = 2, 2\n",
    "\n",
    "\"\"\" We compute the integrand. \"\"\"\n",
    "block = Block(dims = [Dimension('P', P, Charge('beta', beta)) for P in Pi], Nmax = Nmax)\n",
    "q = complex(mpmath.qfrom(m=x))\n",
    "block_num = BlockNum(block, q = q)\n",
    "block_num_cjg = BlockNum(block, q = q.conjugate())\n",
    "Ps = [Pmin + (Pmax - Pmin)*i/Npoint + 1j * epsilon for i in range(Npoint)]\n",
    "Integrand = [( Z3(beta = beta,  Ps = [Pi[0], Pi[1], P]).upsilons.integral()\n",
    "              * Z3(beta = beta,  Ps = [Pi[2], Pi[3], -P]).upsilons.integral()\n",
    "              * block_num.value(P**2) * block_num_cjg.value(P**2) ).real for P in Ps]\n",
    "\n",
    "\"\"\" The rest is plotting, and saving the figure. \"\"\"\n",
    "plt.figure('Integrand of a four-point function')\n",
    "plt.plot(Ps, Integrand, color ='red')\n",
    "for m in range(-m_max, m_max + 1):\n",
    "    for n in range(-n_max, n_max + 1):\n",
    "        if m != 0 and n != 0:\n",
    "            pole = m * beta / 2 + n / beta / 2\n",
    "            pole_rel = (pole - Pmin) / (Pmax - Pmin)\n",
    "            if 0 < pole_rel < 1:\n",
    "                plt.axvline(x = pole, color = 'green' if m * n < 0 else 'blue', label = 'test')\n",
    "                plt.annotate('(%.d, %.d)'%(m, n), xy = (pole_rel + .003, .015), xycoords = 'axes fraction')\n",
    "plt.ylabel('Integrand')\n",
    "plt.xlabel('$P$')\n",
    "# plt.savefig('figure_integrand.pgf', bbox_inches = 'tight', pad_inches = 0)\n",
    "plt.show()"
   ]
  },
  {
   "cell_type": "markdown",
   "metadata": {},
   "source": [
    "We now test crossing symmetry in Liouville theory with $c\\leq 1$."
   ]
  },
  {
   "cell_type": "code",
   "execution_count": null,
   "metadata": {},
   "outputs": [],
   "source": [
    "\"\"\" We choose several values of c, the four momentums, and the cross-ratio x. We also choose Nmax. \"\"\"\n",
    "c3s = [0.873, 0.564, 0.241, -1.237, -3.751]\n",
    "P3s = [0.32, 0.71, .45, .22]\n",
    "x3 = 0.27\n",
    "Nmax3 = 6\n",
    "\n",
    "\"\"\" We compute the four-point functions in both channels. \"\"\"\n",
    "beta3s = [float(Charge('c', c).get('beta')) for c in c3s]\n",
    "data3s = [Data(theory = 'Analytic', beta = beta, Ps = P3s, x = [x3], Nmax = Nmax3, Pcutoff = 3) \n",
    "          for beta in beta3s]"
   ]
  },
  {
   "cell_type": "code",
   "execution_count": null,
   "metadata": {},
   "outputs": [],
   "source": [
    "\"\"\" We display the results. \"\"\"\n",
    "table3 = Table(data3s, parameter_values = c3s, parameter = 'c', digits = 5)\n",
    "table3.display()\n",
    "\n",
    "\"\"\" For use in the article, we print the Latex source of the table, without computation times. \"\"\"\n",
    "print( Table(data3s, parameter_values = c3s, parameter = 'c', digits = 5, time = False).tables[0][0] )"
   ]
  },
  {
   "cell_type": "markdown",
   "metadata": {},
   "source": [
    "We plot the $x$-dependence of a $c\\leq 1$ Liouville four-point correlation function."
   ]
  },
  {
   "cell_type": "code",
   "execution_count": null,
   "metadata": {},
   "outputs": [],
   "source": [
    "\"\"\" Physical parameters. \"\"\"\n",
    "Ps = [0.18, -0.2, 0.71, -0.43]\n",
    "beta = 1.103\n",
    "\n",
    "\"\"\" Number of spline points, and Nmax. \"\"\"\n",
    "spline = 300\n",
    "Nmax = 2\n",
    "\n",
    "\"\"\" Number and positions of points in the plot. \"\"\"\n",
    "N = 40\n",
    "xs = [i*1.0/N for i in range(1, N)]\n",
    "\n",
    "\"\"\" We compute the data. \"\"\"\n",
    "data4 = Data(theory = \"Analytic\", spline = spline, x = xs, beta = beta, \n",
    "             Nmax = Nmax, Ps = Ps, reduced = False)"
   ]
  },
  {
   "cell_type": "code",
   "execution_count": null,
   "metadata": {},
   "outputs": [],
   "source": [
    "\"\"\" We display the data as a graph. \"\"\"\n",
    "graph = Graph(data4)\n",
    "# graph.show(save = 'figure_fourpoint.pgf')\n",
    "graph.show()"
   ]
  },
  {
   "cell_type": "markdown",
   "metadata": {},
   "source": [
    "# 4 Non-analytic theories at rational values of c"
   ]
  },
  {
   "cell_type": "markdown",
   "metadata": {},
   "source": [
    "## 4.1 Non-analytic Liouville theory"
   ]
  },
  {
   "cell_type": "markdown",
   "metadata": {},
   "source": [
    "We plot the three-point structure constant of non-analytic Liouville theory $C^\\text{non-analytic}$ as a function of the momentum.\n",
    "This structure constant is the product of the smooth structure constant $C^{c\\leq 1}$ (which we also plot) with the factor $\\sigma\\in \\{0,1\\}$. \n",
    "The smooth structure constant has poles, which we transform into peaks by shifting the values of the momentum slightly away from the real line.\n",
    "So we actually plot\n",
    "$$\n",
    "\\Re \\left(C^{c\\leq 1}(P_1, P_2, P + i\\epsilon)\\right) \\sigma(P_1, P_2, P)\n",
    "$$\n",
    "as a function of $P\\in\\mathbb{R}$.\n",
    "We also indicate the positions of the poles $P\\in \\frac{1}{2\\sqrt{pq}}$ as vertical lines. \n",
    "We can check that $C^\\text{non-analytic}$ always vanishes at these points."
   ]
  },
  {
   "cell_type": "code",
   "execution_count": null,
   "metadata": {},
   "outputs": [],
   "source": [
    "\"\"\" Physical variables. \"\"\"\n",
    "p, q = 7, 5\n",
    "P1, P2 = 0.2, 0.45\n",
    "\n",
    "\"\"\" Shift. \"\"\"\n",
    "epsilon = .01\n",
    "\n",
    "\"\"\" Interval of values of P, and number of values. \"\"\"\n",
    "Pmin, Pmax = 0.4, 1.2\n",
    "Npoints = 500\n",
    "\n",
    "\"\"\" Some preliminary computations, including the intervals where sigma is one. \"\"\"\n",
    "c = Charge('minimal', [p, q]).get('c')\n",
    "beta = Charge('c', c + 10**(-11)).get('beta')\n",
    "period = 1.0 / math.sqrt(p * q)\n",
    "intervals = R4.extend([R4.interval(P1 + period / 2, P2, period)], period, [Pmin, Pmax])\n",
    "\n",
    "\"\"\" Computing the three-point function. \"\"\"\n",
    "Ps = [Pmin + (Pmax - Pmin)*i / Npoints for i in range (Npoints)]\n",
    "C_analytic = [Z3(beta = beta, Ps = [P1, P2, P + 1j*epsilon]).upsilons.integral().real for P in Ps]\n",
    "C_non_analytic = []\n",
    "for index, P in enumerate(Ps):\n",
    "    sigma = 0\n",
    "    for interval in  intervals:\n",
    "        if interval[0] < P < interval[1]:\n",
    "            sigma = 1    \n",
    "    C_non_analytic.append(C_analytic[index] * sigma)\n",
    "        \n",
    "\"\"\" The rest is plotting. \"\"\"\n",
    "plt.figure('Structure constants of (non-)analytic Liouville theory')\n",
    "plt.plot(Ps, C_analytic, color ='blue', label = 'analytic')\n",
    "plt.plot(Ps, C_non_analytic, color ='red', label = 'non-analytic')\n",
    "for n in range(int(Pmin * 2.0 / period) + 1, int(Pmax * 2.0 / period) + 1):\n",
    "    pole = n * period / 2\n",
    "    plt.axvline(pole, color = 'green')\n",
    "# plt.title(r'Structure constants as functions of the momentum, with $\\beta^2 = \\frac{%d}{%d}$' %(p,q))\n",
    "plt.ylabel('structure constants')\n",
    "plt.xlabel('momentum')\n",
    "plt.legend(loc='upper right')\n",
    "# plt.savefig('figure_non_analytic.pgf', bbox_inches = 'tight', pad_inches = 0)\n",
    "plt.show()  "
   ]
  },
  {
   "cell_type": "markdown",
   "metadata": {},
   "source": [
    "We directly check crossing symmetry in non-analytic Liouville theory."
   ]
  },
  {
   "cell_type": "code",
   "execution_count": null,
   "metadata": {},
   "outputs": [],
   "source": [
    "\"\"\" We choose several values of c, the four momentums, and the cross-ratio x. We also choose Nmax. \"\"\"\n",
    "pqs = [[1, 4], [3, 5], [2, 3], [3, 4], [1, 1]] \n",
    "P5s = [0.22, 0.37, 0.28, 0.12]\n",
    "x5 = 0.23\n",
    "Nmax5 = 4\n",
    "\n",
    "\"\"\" We compute the four-point functions in both channels. \"\"\"\n",
    "charges = [Charge('minimal', pair) for pair in pqs]\n",
    "data5s = []\n",
    "for charge in charges:\n",
    "    data5s.append(Data(theory = 'Rational', charge = charge, Ps = P5s, x = [x5], Nmax = Nmax5))"
   ]
  },
  {
   "cell_type": "code",
   "execution_count": null,
   "metadata": {},
   "outputs": [],
   "source": [
    "\"\"\" We display the results. \"\"\"\n",
    "c5s = [latex(charge.get('c')) for charge in charges]\n",
    "table5 = Table(data5s, parameter_values = c5s, parameter = 'c', digits = 7)\n",
    "table5.display()\n",
    "\n",
    "\"\"\" For use in the article, we print the Latex source of the table, without computation times. \"\"\"\n",
    "print( Table(data5s, parameter_values = c5s, parameter = 'c', digits = 7, time = False).tables[0][0] )"
   ]
  },
  {
   "cell_type": "markdown",
   "metadata": {},
   "source": [
    "## 4.2 Other plausible theories"
   ]
  },
  {
   "cell_type": "markdown",
   "metadata": {},
   "source": [
    "We dismiss the non-analytic theories which are built from pairs of integers $(p, q)$ that are not coprime.\n",
    "We use values of the parameters for which crossing symmetry was achieved to a precision of the order $10^{-5}$ or better in non-analytic Liouville theory."
   ]
  },
  {
   "cell_type": "code",
   "execution_count": null,
   "metadata": {},
   "outputs": [],
   "source": [
    "\"\"\" We choose several pairs of integers, the four momentums, and the cross-ratio x. We also choose Nmax. \"\"\"\n",
    "pqs_bad = [[2, 2], [2, 4], [3, 3]] \n",
    "P6s = [0.22, 0.37, 0.28, 0.12]\n",
    "x6 = 0.23\n",
    "Nmax6 = 4\n",
    "\n",
    "\"\"\" We compute the four-point functions in both channels. \"\"\"\n",
    "charges = [Charge('minimal', pair) for pair in pqs_bad]\n",
    "data6s = [Data(theory = 'Rational', charge = charge, Ps = P6s, x = [x6], Nmax = Nmax6) \n",
    "          for charge in charges]\n",
    "    \n",
    "\"\"\" We display the results. \"\"\"\n",
    "c6s = [latex((pq[0],pq[1])) for pq in pqs_bad]\n",
    "table6 = Table(data6s, parameter_values = c6s, parameter = '(p, q)', digits = 7)\n",
    "table6.display()"
   ]
  },
  {
   "cell_type": "markdown",
   "metadata": {},
   "source": [
    "We study an integral over disjoint unions as a function of a momentum.\n",
    "We see that the $s$- and $t$-channel agree or not depending on the momentum."
   ]
  },
  {
   "cell_type": "code",
   "execution_count": null,
   "metadata": {},
   "outputs": [],
   "source": [
    "\"\"\" Choosing parameters. \"\"\"\n",
    "p, q = 1, 1\n",
    "P7s = [0.22, 0.47, 0.31]\n",
    "Npoints = 200\n",
    "lastP = [i / (Npoints + .01) for i in range (1, Npoints)]\n",
    "x7 = 0.23\n",
    "Nmax7 = 4\n",
    "\n",
    "\"\"\" Computing the four-point functions. \"\"\"\n",
    "charge = Charge('minimal', [1, 1])\n",
    "data7s = [Data(theory = 'Rational', disjoint = True, \n",
    "               charge = charge, Ps = P7s + [P], x = [x7], Nmax = Nmax7)  for P in lastP]"
   ]
  },
  {
   "cell_type": "code",
   "execution_count": null,
   "metadata": {},
   "outputs": [],
   "source": [
    "# Table(data7s, parameter_values = lastP, parameter = 'P_4', digits = 6).display()\n",
    "\n",
    "\"\"\" Retrieving four-point functions from the Data object. \"\"\"\n",
    "s_values = [data.results[0][0][0].real for data in data7s]\n",
    "t_values = [data.results[0][0][1].real for data in data7s]\n",
    "\n",
    "\"\"\" The rest is plotting. \"\"\"\n",
    "plt.figure('Disjoint four-point function')\n",
    "plt.plot(lastP, s_values, color ='blue', label = '$s$-channel')\n",
    "plt.plot(lastP, t_values, color ='red', label = '$t$-channel')\n",
    "plt.ylabel('four-point integrals')\n",
    "plt.xlabel('momentum $P_4$')\n",
    "axes = plt.gca()\n",
    "axes.set_ylim([-2, 2])\n",
    "plt.legend(loc = 'upper left')\n",
    "# plt.savefig('figure_disjoint.pgf', bbox_inches = 'tight', pad_inches = 0)\n",
    "plt.show()  "
   ]
  },
  {
   "cell_type": "markdown",
   "metadata": {},
   "source": [
    "# Conclusion"
   ]
  },
  {
   "cell_type": "markdown",
   "metadata": {},
   "source": [
    "We test crossing symmetry in generalized minimal models. \n",
    "In this case $N_\\text{max}$ often has to be quite large for a good agreement to be found. \n",
    "This is not problematic, because the calculations are quite fast, since we have an $s$-channel sum instead of an integral."
   ]
  },
  {
   "cell_type": "code",
   "execution_count": null,
   "metadata": {},
   "outputs": [],
   "source": [
    "\"\"\" We choose values of c, four degenerate fields, the cross-ratio x, and Nmax. \"\"\"\n",
    "c8s = [.3 + .8 * 1j, -.5 + .7 * 1j, 3 - .1 * 1j, 28.12, .789, -4.56]\n",
    "pq8s = [[2, 3], [3, 2], [4, 2], [3, 3]]\n",
    "# pq8s = [[1, 2]] * 4 \n",
    "x8 = 0.23\n",
    "Nmax8 = 16\n",
    "# The case c = 28.12 with pqs = [[2, 3], [3, 2], [4, 2], [3, 3]] is problematic for unknown\n",
    "# reasons. Maybe the involved numbers are too large or small, and precision is lost.\n",
    "\n",
    "\"\"\" We compute the four-point functions in both channels. \"\"\"\n",
    "data8s = []\n",
    "for c8 in c8s:\n",
    "    charge = Charge('c', c8)\n",
    "    fields = [Dimension('degenerate', pair, charge) for pair in pq8s]\n",
    "    data8s.append(Data(theory = 'GMM', fields = fields, x = [x8], Nmax = Nmax8))"
   ]
  },
  {
   "cell_type": "code",
   "execution_count": null,
   "metadata": {},
   "outputs": [],
   "source": [
    "\"\"\" We display the results. \"\"\"\n",
    "table8 = Table(data8s, parameter_values = c8s, parameter = 'c', digits = 7)\n",
    "table8.display()"
   ]
  },
  {
   "cell_type": "code",
   "execution_count": null,
   "metadata": {},
   "outputs": [],
   "source": []
  }
 ],
 "metadata": {
  "kernelspec": {
   "display_name": "Python 2",
   "language": "python",
   "name": "python2"
  },
  "language_info": {
   "codemirror_mode": {
    "name": "ipython",
    "version": 2
   },
   "file_extension": ".py",
   "mimetype": "text/x-python",
   "name": "python",
   "nbconvert_exporter": "python",
   "pygments_lexer": "ipython2",
   "version": "2.7.12"
  }
 },
 "nbformat": 4,
 "nbformat_minor": 0
}
