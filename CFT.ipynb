{
 "cells": [
  {
   "cell_type": "markdown",
   "metadata": {},
   "source": [
    "# Conformal field theory\n",
    "\n",
    "We define basic data of conformal field theory: the central charge, the conformal dimension, and fields."
   ]
  },
  {
   "cell_type": "code",
   "execution_count": 3,
   "metadata": {
    "collapsed": false
   },
   "outputs": [],
   "source": [
    "from __future__ import division, print_function\n",
    "\n",
    "from sympy import Rational, I, sqrt, latex, symbols\n",
    "from IPython.display import display, Math\n",
    "import numpy\n",
    "\n",
    "from Auxiliary_classes import LatexTable, numerical"
   ]
  },
  {
   "cell_type": "markdown",
   "metadata": {},
   "source": [
    "## Central charge\n",
    "\n",
    "The central charge $c$ can alternatively be parametrized by the variables $Q, b, B, \\beta, S$ such that\n",
    "$$\n",
    "c = 1 + 6Q^2,\\ Q = b+\\frac{1}{b},\\ B=b^2,\\ \\beta = ib,\\ S=\\frac{c-1}{24}=\\frac{Q^2}{4}=\\frac12+\\frac14(B+1/B)\n",
    "$$\n",
    "In the case of the $M_{p,q}$ minimal model we have\n",
    "$$\n",
    "B = -\\frac{q}{p}\n",
    "$$"
   ]
  },
  {
   "cell_type": "code",
   "execution_count": 4,
   "metadata": {
    "collapsed": false
   },
   "outputs": [
    {
     "data": {
      "text/latex": [
       "$$\\begin{array}{|c|c|c|c|c|c|} \\hline c & Q & b & \\beta & B & S \\\\ \\hline 6 b^{2} + 13 + \\frac{6}{b^{2}} & b + \\frac{1}{b} & b & i b & b^{2} & \\frac{1}{4} \\left(b + \\frac{1}{b}\\right)^{2} \\\\ \\hline  \\end{array} $$"
      ],
      "text/plain": [
       "<IPython.core.display.Math object>"
      ]
     },
     "metadata": {},
     "output_type": "display_data"
    },
    {
     "data": {
      "text/latex": [
       "$$\\begin{array}{|c|c|c|c|c|c|c|} \\hline (p,q) & c & Q & b & \\beta & B & S \\\\ \\hline \\left ( p, \\quad q\\right ) & - \\frac{6 p}{q} + 13 - \\frac{6 q}{p} & \\sqrt{- \\frac{q}{p}} - \\sqrt{- \\frac{p}{q}} & \\sqrt{- \\frac{q}{p}} & \\sqrt{\\frac{q}{p}} & - \\frac{q}{p} & - \\frac{p}{4 q} + \\frac{1}{2} - \\frac{q}{4 p} \\\\ \\hline  \\end{array} $$"
      ],
      "text/plain": [
       "<IPython.core.display.Math object>"
      ]
     },
     "metadata": {},
     "output_type": "display_data"
    },
    {
     "data": {
      "text/latex": [
       "$$\\begin{array}{|c|c|c|c|c|c|c|} \\hline (p,q) & c & Q & b & \\beta & B & S \\\\ \\hline \\left ( 3, \\quad 4\\right ) & \\frac{1}{2} & \\frac{\\sqrt{3} i}{6} & \\frac{2 i}{3} \\sqrt{3} & \\frac{2 \\sqrt{3}}{3} & - \\frac{4}{3} & - \\frac{1}{48} \\\\ \\hline  \\end{array} $$"
      ],
      "text/plain": [
       "<IPython.core.display.Math object>"
      ]
     },
     "metadata": {},
     "output_type": "display_data"
    },
    {
     "data": {
      "text/latex": [
       "$$\\begin{array}{|c|c|c|c|c|c|} \\hline c & Q & b & \\beta & B & S \\\\ \\hline c & \\sqrt{\\frac{c}{6} - \\frac{1}{6}} & \\sqrt{\\frac{c}{24} - \\frac{25}{24}} - \\sqrt{\\frac{c}{24} - \\frac{1}{24}} & - \\sqrt{- \\frac{c}{24} + \\frac{1}{24}} + \\sqrt{- \\frac{c}{24} + \\frac{25}{24}} & \\frac{c}{12} - \\frac{1}{12} \\sqrt{c - 25} \\sqrt{c - 1} - \\frac{13}{12} & \\frac{c}{24} - \\frac{1}{24} \\\\ \\hline  \\end{array} $$"
      ],
      "text/plain": [
       "<IPython.core.display.Math object>"
      ]
     },
     "metadata": {},
     "output_type": "display_data"
    },
    {
     "data": {
      "text/latex": [
       "$$\\begin{array}{|c|c|c|c|c|c|} \\hline c & Q & b & \\beta & B & S \\\\ \\hline 6 Q^{2} + 1 & Q & \\frac{Q}{2} + \\frac{1}{2} \\sqrt{Q^{2} - 4} & \\frac{i}{2} \\left(Q + \\sqrt{Q^{2} - 4}\\right) & \\frac{Q^{2}}{2} + \\frac{Q}{2} \\sqrt{Q^{2} - 4} - 1 & \\frac{Q^{2}}{4} \\\\ \\hline  \\end{array} $$"
      ],
      "text/plain": [
       "<IPython.core.display.Math object>"
      ]
     },
     "metadata": {},
     "output_type": "display_data"
    },
    {
     "data": {
      "text/latex": [
       "$$\\begin{array}{|c|c|c|c|c|c|} \\hline c & Q & b & \\beta & B & S \\\\ \\hline 6 b^{2} + 13 + \\frac{6}{b^{2}} & b + \\frac{1}{b} & b & i b & b^{2} & \\frac{1}{4} \\left(b + \\frac{1}{b}\\right)^{2} \\\\ \\hline  \\end{array} $$"
      ],
      "text/plain": [
       "<IPython.core.display.Math object>"
      ]
     },
     "metadata": {},
     "output_type": "display_data"
    },
    {
     "data": {
      "text/latex": [
       "$$\\begin{array}{|c|c|c|c|c|c|} \\hline c & Q & b & \\beta & B & S \\\\ \\hline 24 S + 1 & 2 \\sqrt{S} & \\sqrt{S} + \\sqrt{S - 1} & \\sqrt{- S} + \\sqrt{- S + 1} & 2 S + 2 \\sqrt{S \\left(S - 1\\right)} - 1 & S \\\\ \\hline  \\end{array} $$"
      ],
      "text/plain": [
       "<IPython.core.display.Math object>"
      ]
     },
     "metadata": {},
     "output_type": "display_data"
    },
    {
     "data": {
      "text/latex": [
       "$$\\begin{array}{|c|c|c|c|c|c|} \\hline c & Q & b & \\beta & B & S \\\\ \\hline - 6 \\beta^{2} + 13 - \\frac{6}{\\beta^{2}} & - i \\left(\\beta - \\frac{1}{\\beta}\\right) & - i \\beta & \\beta & - \\beta^{2} & - \\frac{1}{4} \\left(\\beta - \\frac{1}{\\beta}\\right)^{2} \\\\ \\hline  \\end{array} $$"
      ],
      "text/plain": [
       "<IPython.core.display.Math object>"
      ]
     },
     "metadata": {},
     "output_type": "display_data"
    },
    {
     "data": {
      "text/latex": [
       "$$\\begin{array}{|c|c|c|c|c|c|} \\hline c & Q & b & \\beta & B & S \\\\ \\hline 6 B + 13 + \\frac{6}{B} & \\sqrt{B} + \\frac{1}{\\sqrt{B}} & \\sqrt{B} & \\sqrt{- B} & B & \\frac{B}{4} + \\frac{1}{2} + \\frac{1}{4 B} \\\\ \\hline  \\end{array} $$"
      ],
      "text/plain": [
       "<IPython.core.display.Math object>"
      ]
     },
     "metadata": {},
     "output_type": "display_data"
    },
    {
     "data": {
      "text/latex": [
       "$$\\begin{array}{|c|c|c|c|c|c|} \\hline c & Q & b & \\beta & B & S \\\\ \\hline 80.2066666666666 & 3.63333333333333 & 0.3 & 0.3 i & 0.09 & 3.30027777777778 \\\\ \\hline  \\end{array} $$"
      ],
      "text/plain": [
       "<IPython.core.display.Math object>"
      ]
     },
     "metadata": {},
     "output_type": "display_data"
    },
    {
     "data": {
      "text/latex": [
       "$$\\begin{array}{|c|c|c|c|c|c|} \\hline c & Q & b & \\beta & B & S \\\\ \\hline 12.58 - 1.44 i + 96.0 \\left(-0.07 + 0.24 i\\right) & 0.3 - 0.4 i + 4.0 \\left(0.3 + 0.4 i\\right) & (0.3-0.4j) & i \\left(0.3 - 0.4 i\\right) & (-0.07000000000000002-0.24j) & \\frac{1}{4} \\left(0.3 - 0.4 i + 4.0 \\left(0.3 + 0.4 i\\right)\\right)^{2} \\\\ \\hline  \\end{array} $$"
      ],
      "text/plain": [
       "<IPython.core.display.Math object>"
      ]
     },
     "metadata": {},
     "output_type": "display_data"
    }
   ],
   "source": [
    "class Charge:\n",
    "    \"\"\" The central charge with all possible notations. \"\"\"\n",
    "    \n",
    "    def __init__(self, variable = 'b', value = None):\n",
    "        \"\"\" Needs a string, corresponding to a variable, and a value, which by default\n",
    "        is a symbolic variable.  We then compute the values of all variables. \n",
    "        \"\"\"\n",
    "        \n",
    "        if value is None:\n",
    "            if variable == 'minimal':\n",
    "                value = symbols(['p', 'q'])\n",
    "            else:\n",
    "                value = symbols(variable)     # Giving a symbolic value by default.                           \n",
    "        \n",
    "        self.names = [['c', 'c'], ['Q', 'Q'], ['b', 'b'], ['beta', r'\\beta'], ['B', 'B'], ['S', 'S']]\n",
    "        \"\"\" Class variables tend to get modified when used, so let's not use them! \"\"\"\n",
    "        \n",
    "        for name in self.names:\n",
    "            name += [Charge.convert(value, variable, name[0])]\n",
    "        \n",
    "        if variable == 'minimal': \n",
    "            self.names = [['minimal', '(p,q)', tuple(value)]] + self.names\n",
    "\n",
    "            \n",
    "    @staticmethod        \n",
    "    def convert(x, var1, var2):\n",
    "        \"\"\" Given a value x and two names of variables, returns the value of var2 if var1 = x. \n",
    "        Beware that relations such as B = b**2 are not guaranteed to hold when both are computed\n",
    "        from c. \n",
    "        \"\"\"\n",
    "        if var1 == var2:\n",
    "            result = x\n",
    "        else:\n",
    "            result = {\n",
    "                ('c', 'Q'): lambda x: sqrt((x - 1) / Rational(6)),\n",
    "                ('c', 'b'): lambda x: - sqrt((x - 1) / Rational(24)) + sqrt((x - 25) / Rational(24)),\n",
    "                ('c', 'beta'): lambda x: - sqrt((1 - x) / Rational(24)) + sqrt((25 - x) / Rational(24)),\n",
    "                ('c', 'B'): lambda x: (x - 13 - sqrt(x - 1) * sqrt(x - 25)) / Rational(12),\n",
    "                ('c', 'S'): lambda x: (x - 1) / Rational(24),\n",
    "                ('Q', 'c'): lambda x: 1 + 6 * x**2,\n",
    "                ('Q', 'b'): lambda x: (x + sqrt(x**2 - 4)) / Rational(2),\n",
    "                ('Q', 'beta'): lambda x: I * (x + sqrt(x**2 - 4)) / Rational(2),\n",
    "                ('Q', 'B'): lambda x: (x**2 - 2 + x * sqrt(x**2 - 4)) / Rational(2),\n",
    "                ('Q', 'S'): lambda x: x**2 / Rational(4),\n",
    "                ('b', 'c'): lambda x: 13 + 6 * x**2 + Rational(6) / x**2,\n",
    "                ('b', 'Q'): lambda x: x + Rational(1) / x,\n",
    "                ('b', 'beta'): lambda x: I * x,\n",
    "                ('b', 'B'): lambda x: x**2,\n",
    "                ('b', 'S'): lambda x: (x + Rational(1) / x)**2 / Rational(4),\n",
    "                ('beta', 'c'): lambda x: 13 - 6 * x**2 - Rational(6) / x**2,\n",
    "                ('beta', 'Q'): lambda x: - I * (x - Rational(1) / x),\n",
    "                ('beta', 'b'): lambda x: - I * x,\n",
    "                ('beta', 'B'): lambda x: - x**2,\n",
    "                ('beta', 'S'): lambda x: - (x - Rational(1) / x)**2 / Rational(4),\n",
    "                ('B', 'c'): lambda x: 13 + 6 * x + Rational(6) / x,\n",
    "                ('B', 'Q'): lambda x: sqrt(x) + Rational(1) / sqrt(x),\n",
    "                ('B', 'b'): lambda x: sqrt(x),\n",
    "                ('B', 'beta'): lambda x: sqrt(-x),\n",
    "                ('B', 'S'): lambda x: (x + 2 + Rational(1) / x) / Rational(4), \n",
    "                ('S', 'c'): lambda x: 24 * x + 1, \n",
    "                ('S', 'Q'): lambda x: 2 * sqrt(x),\n",
    "                ('S', 'b'): lambda x: sqrt(x) + sqrt(x - 1),\n",
    "                ('S', 'beta'): lambda x: sqrt(-x) + sqrt(1 - x),\n",
    "                ('S', 'B'): lambda x: 2 * x - 1 + 2 * sqrt(x * (x - 1)),\n",
    "                ('minimal', 'c'): lambda x: 13 - Rational(6) / x[0] * x[1] - Rational(6) / x[1] * x[0],\n",
    "                ('minimal', 'Q'): lambda x: sqrt(-Rational(1) / x[0] * x[1]) - sqrt(-Rational(1) / x[1] * x[0]),\n",
    "                ('minimal', 'b'): lambda x: sqrt(-Rational(1) / x[0] * x[1]),\n",
    "                ('minimal', 'beta'): lambda x: sqrt(Rational(1) / x[0] * x[1]),\n",
    "                ('minimal', 'B'): lambda x: -Rational(1) / x[0] * x[1],\n",
    "                ('minimal', 'S'): lambda x: (2 - Rational(1) / x[0] * x[1] - Rational(1) / x[1] * x[0]) / Rational(4)\n",
    "                    }[(var1, var2)](x)\n",
    "        return result\n",
    "\n",
    "    def get(self, variable, num = True):\n",
    "        \"\"\" Returns the value of a given variable. By default this value is a float or complex. \"\"\"\n",
    "        result = None\n",
    "        for name in self.names:\n",
    "            if variable == name[0]:\n",
    "                result = name[2]\n",
    "                if num and name[0] is not 'minimal':\n",
    "                    result = numerical(result)\n",
    "        return result  \n",
    "    \n",
    "    def display(self):\n",
    "        \"\"\" Prints the relevant data. \"\"\"\n",
    "        LatexTable(self.names, [1, 2])\n",
    "\n",
    "    def KacTable(self, show = True):\n",
    "        \"\"\" Displays the Kac table, if the model is minimal. \"\"\"\n",
    "        result = None\n",
    "        if self.names[0][0] == 'minimal':\n",
    "            (p,q) = self.names[0][2]\n",
    "            if isinstance(p,int) and isinstance(q, int) and p>1 and q>1:           \n",
    "                string = r\"\\begin{array}{c|\"\n",
    "                for r in range(1,p):\n",
    "                    string += \"c\"\n",
    "                string += r\"} \"\n",
    "                string2 = \"\"\n",
    "                for s in range(1,q):\n",
    "                    substring = latex(s)\n",
    "                    for r in range(1,p):\n",
    "                        substring += \" & \" + latex(Dimension('degenerate', [r, s], self).get('Delta', False))\n",
    "                    string2 = substring + r\" \\\\ \" + string2\n",
    "                string += string2 + r\" \\hline\"         \n",
    "                for r in range(1,p):\n",
    "                    string += \" & \" + latex(r)\n",
    "                string += r\" \\end{array}\"   \n",
    "                if show:\n",
    "                    display(Math(string))\n",
    "                result = string\n",
    "        return result    \n",
    "    \n",
    "if __name__ == '__main__':\n",
    "        \n",
    "    Charge().display()\n",
    "    Charge('minimal').display()\n",
    "    Charge('minimal', [3,4]).display()\n",
    "    Charge('c').display()\n",
    "    Charge('Q').display()\n",
    "    Charge('b').display()\n",
    "    Charge('S').display()\n",
    "    Charge('beta').display()\n",
    "    Charge('B').display()\n",
    "    Charge('b', .3).display()\n",
    "    Charge('b', .3 - .4*1j).display()\n"
   ]
  },
  {
   "cell_type": "markdown",
   "metadata": {},
   "source": [
    "## Conformal dimension\n",
    "\n",
    "The conformal dimension $\\Delta$ of a primary field can alternatively be parametrized by the variables $\\delta, \\alpha, A, P$ such that\n",
    "$$\n",
    "\\Delta = \\delta + \\frac{Q^2}{4} = \\alpha(Q-\\alpha), \\ \\delta = P^2 = -\\frac{A^2}{b^2}\n",
    "$$\n",
    "We call degenerate a dimension of the type\n",
    "$$\n",
    "\\alpha = \\frac{Q - r b - sb^{-1}}{2}\n",
    "$$\n",
    "where $r$ and $s$ are however arbitrary. We moreover say that we have a null vector if $r,s\\in \\mathbb{Z}$ and $rs>0$. "
   ]
  },
  {
   "cell_type": "code",
   "execution_count": 5,
   "metadata": {
    "collapsed": false
   },
   "outputs": [
    {
     "data": {
      "text/latex": [
       "$$\\begin{array}{c|cccccccccc} 11 & \\frac{45}{2} & \\frac{196}{11} & \\frac{301}{22} & \\frac{111}{11} & \\frac{155}{22} & \\frac{50}{11} & \\frac{57}{22} & \\frac{13}{11} & \\frac{7}{22} & 0 \\\\ 10 & \\frac{291}{16} & \\frac{2465}{176} & \\frac{1825}{176} & \\frac{1281}{176} & \\frac{833}{176} & \\frac{481}{176} & \\frac{225}{176} & \\frac{65}{176} & \\frac{1}{176} & \\frac{3}{16} \\\\ 9 & \\frac{43}{3} & \\frac{703}{66} & \\frac{248}{33} & \\frac{325}{66} & \\frac{95}{33} & \\frac{91}{66} & \\frac{14}{33} & \\frac{1}{66} & \\frac{5}{33} & \\frac{5}{6} \\\\ 8 & \\frac{175}{16} & \\frac{1365}{176} & \\frac{901}{176} & \\frac{533}{176} & \\frac{261}{176} & \\frac{85}{176} & \\frac{5}{176} & \\frac{21}{176} & \\frac{133}{176} & \\frac{31}{16} \\\\ 7 & 8 & \\frac{117}{22} & \\frac{35}{11} & \\frac{35}{22} & \\frac{6}{11} & \\frac{1}{22} & \\frac{1}{11} & \\frac{15}{22} & \\frac{20}{11} & \\frac{7}{2} \\\\ 6 & \\frac{265}{48} & \\frac{1763}{528} & \\frac{899}{528} & \\frac{323}{528} & \\frac{35}{528} & \\frac{35}{528} & \\frac{323}{528} & \\frac{899}{528} & \\frac{1763}{528} & \\frac{265}{48} \\\\ 5 & \\frac{7}{2} & \\frac{20}{11} & \\frac{15}{22} & \\frac{1}{11} & \\frac{1}{22} & \\frac{6}{11} & \\frac{35}{22} & \\frac{35}{11} & \\frac{117}{22} & 8 \\\\ 4 & \\frac{31}{16} & \\frac{133}{176} & \\frac{21}{176} & \\frac{5}{176} & \\frac{85}{176} & \\frac{261}{176} & \\frac{533}{176} & \\frac{901}{176} & \\frac{1365}{176} & \\frac{175}{16} \\\\ 3 & \\frac{5}{6} & \\frac{5}{33} & \\frac{1}{66} & \\frac{14}{33} & \\frac{91}{66} & \\frac{95}{33} & \\frac{325}{66} & \\frac{248}{33} & \\frac{703}{66} & \\frac{43}{3} \\\\ 2 & \\frac{3}{16} & \\frac{1}{176} & \\frac{65}{176} & \\frac{225}{176} & \\frac{481}{176} & \\frac{833}{176} & \\frac{1281}{176} & \\frac{1825}{176} & \\frac{2465}{176} & \\frac{291}{16} \\\\ 1 & 0 & \\frac{7}{22} & \\frac{13}{11} & \\frac{57}{22} & \\frac{50}{11} & \\frac{155}{22} & \\frac{111}{11} & \\frac{301}{22} & \\frac{196}{11} & \\frac{45}{2} \\\\  \\hline & 1 & 2 & 3 & 4 & 5 & 6 & 7 & 8 & 9 & 10 \\end{array}$$"
      ],
      "text/plain": [
       "<IPython.core.display.Math object>"
      ]
     },
     "metadata": {},
     "output_type": "display_data"
    },
    {
     "data": {
      "text/latex": [
       "$$\\begin{array}{|c|c|c|c|c|} \\hline \\Delta & \\delta & \\alpha & A & P \\\\ \\hline \\alpha \\left(- \\alpha + b + \\frac{1}{b}\\right) & - \\left(\\alpha - \\frac{b}{2} - \\frac{1}{2 b}\\right)^{2} & \\alpha & - \\alpha b + \\frac{b^{2}}{2} + \\frac{1}{2} & i \\left(- \\alpha + \\frac{b}{2} + \\frac{1}{2 b}\\right) \\\\ \\hline  \\end{array} $$"
      ],
      "text/plain": [
       "<IPython.core.display.Math object>"
      ]
     },
     "metadata": {},
     "output_type": "display_data"
    },
    {
     "data": {
      "text/latex": [
       "$$\\begin{array}{|c|c|c|c|c|c|} \\hline (r,s) & \\Delta & \\delta & \\alpha & A & P \\\\ \\hline \\left ( r, \\quad s\\right ) & - \\frac{b^{2} r^{2}}{4} - \\frac{r s}{2} + \\frac{1}{4} \\left(b + \\frac{1}{b}\\right)^{2} - \\frac{s^{2}}{4 b^{2}} & - \\frac{b^{2} r^{2}}{4} - \\frac{r s}{2} - \\frac{s^{2}}{4 b^{2}} & - \\frac{b}{2} \\left(r - 1\\right) - \\frac{s - 1}{2 b} & \\frac{b^{2} r}{2} + \\frac{s}{2} & \\frac{i}{2} \\left(b r + \\frac{s}{b}\\right) \\\\ \\hline  \\end{array} $$"
      ],
      "text/plain": [
       "<IPython.core.display.Math object>"
      ]
     },
     "metadata": {},
     "output_type": "display_data"
    },
    {
     "data": {
      "text/latex": [
       "$$\\begin{array}{|c|c|c|c|c|c|} \\hline (r,s) & \\Delta & \\delta & \\alpha & A & P \\\\ \\hline \\left ( 2, \\quad 1\\right ) & - b^{2} + \\frac{1}{4} \\left(b + \\frac{1}{b}\\right)^{2} - 1 - \\frac{1}{4 b^{2}} & - b^{2} - 1 - \\frac{1}{4 b^{2}} & - \\frac{b}{2} & b^{2} + \\frac{1}{2} & \\frac{i}{2} \\left(2 b + \\frac{1}{b}\\right) \\\\ \\hline  \\end{array} $$"
      ],
      "text/plain": [
       "<IPython.core.display.Math object>"
      ]
     },
     "metadata": {},
     "output_type": "display_data"
    },
    {
     "data": {
      "text/latex": [
       "$$\\begin{array}{|c|c|c|c|c|} \\hline \\Delta & \\delta & \\alpha & A & P \\\\ \\hline \\Delta & \\Delta - \\frac{1}{4} \\left(b + \\frac{1}{b}\\right)^{2} & \\frac{b}{2} + \\sqrt{- \\Delta + \\frac{1}{4} \\left(b + \\frac{1}{b}\\right)^{2}} + \\frac{1}{2 b} & \\sqrt{b^{2} \\left(- \\Delta + \\frac{1}{4} \\left(b + \\frac{1}{b}\\right)^{2}\\right)} & \\sqrt{\\Delta - \\frac{1}{4} \\left(b + \\frac{1}{b}\\right)^{2}} \\\\ \\hline  \\end{array} $$"
      ],
      "text/plain": [
       "<IPython.core.display.Math object>"
      ]
     },
     "metadata": {},
     "output_type": "display_data"
    },
    {
     "data": {
      "text/latex": [
       "$$\\begin{array}{|c|c|c|c|c|} \\hline \\Delta & \\delta & \\alpha & A & P \\\\ \\hline \\delta + \\frac{1}{4} \\left(b + \\frac{1}{b}\\right)^{2} & \\delta & \\frac{b}{2} + \\sqrt{- \\delta} + \\frac{1}{2 b} & \\sqrt{- \\delta b^{2}} & \\sqrt{\\delta} \\\\ \\hline  \\end{array} $$"
      ],
      "text/plain": [
       "<IPython.core.display.Math object>"
      ]
     },
     "metadata": {},
     "output_type": "display_data"
    },
    {
     "data": {
      "text/latex": [
       "$$\\begin{array}{|c|c|c|c|c|} \\hline \\Delta & \\delta & \\alpha & A & P \\\\ \\hline - \\frac{A^{2}}{b^{2}} + \\frac{1}{4} \\left(b + \\frac{1}{b}\\right)^{2} & - \\frac{A^{2}}{b^{2}} & - \\frac{A}{b} + \\frac{b}{2} + \\frac{1}{2 b} & A & \\frac{i A}{b} \\\\ \\hline  \\end{array} $$"
      ],
      "text/plain": [
       "<IPython.core.display.Math object>"
      ]
     },
     "metadata": {},
     "output_type": "display_data"
    },
    {
     "data": {
      "text/latex": [
       "$$\\begin{array}{|c|c|c|c|c|} \\hline \\Delta & \\delta & \\alpha & A & P \\\\ \\hline P^{2} + \\frac{1}{4} \\left(b + \\frac{1}{b}\\right)^{2} & P^{2} & i P + \\frac{b}{2} + \\frac{1}{2 b} & - i P b & P \\\\ \\hline  \\end{array} $$"
      ],
      "text/plain": [
       "<IPython.core.display.Math object>"
      ]
     },
     "metadata": {},
     "output_type": "display_data"
    },
    {
     "data": {
      "text/latex": [
       "$$\\left [ \\left ( 2, \\quad 3\\right ), \\quad \\left ( 2, \\quad 5\\right ), \\quad \\left ( 2, \\quad 7\\right ), \\quad \\left ( 4, \\quad 3\\right ), \\quad \\left ( 4, \\quad 5\\right ), \\quad \\left ( 4, \\quad 7\\right )\\right ]$$"
      ],
      "text/plain": [
       "<IPython.core.display.Math object>"
      ]
     },
     "metadata": {},
     "output_type": "display_data"
    },
    {
     "data": {
      "text/latex": [
       "$$\\left [ \\alpha - \\frac{b}{2} - \\frac{1}{b}, \\quad \\alpha - \\frac{b}{2}, \\quad \\alpha - \\frac{b}{2} + \\frac{1}{b}, \\quad \\alpha + \\frac{b}{2} - \\frac{1}{b}, \\quad \\alpha + \\frac{b}{2}, \\quad \\alpha + \\frac{b}{2} + \\frac{1}{b}\\right ]$$"
      ],
      "text/plain": [
       "<IPython.core.display.Math object>"
      ]
     },
     "metadata": {},
     "output_type": "display_data"
    },
    {
     "data": {
      "text/latex": [
       "$$\\left [ \\alpha - b - \\frac{2}{b}, \\quad \\alpha - b - \\frac{1}{b}, \\quad \\alpha - b, \\quad \\alpha - b + \\frac{1}{b}, \\quad \\alpha - b + \\frac{2}{b}, \\quad \\alpha - \\frac{2}{b}, \\quad \\alpha - \\frac{1}{b}, \\quad \\alpha, \\quad \\alpha + \\frac{1}{b}, \\quad \\alpha + \\frac{2}{b}, \\quad \\alpha + b - \\frac{2}{b}, \\quad \\alpha + b - \\frac{1}{b}, \\quad \\alpha + b, \\quad \\alpha + b + \\frac{1}{b}, \\quad \\alpha + b + \\frac{2}{b}\\right ]$$"
      ],
      "text/plain": [
       "<IPython.core.display.Math object>"
      ]
     },
     "metadata": {},
     "output_type": "display_data"
    },
    {
     "data": {
      "text/latex": [
       "$$\\begin{array}{|c|c|c|c|c|} \\hline \\Delta & \\delta & \\alpha & A & P \\\\ \\hline 0.0583333333333333 + 0.3 i & (0.1+0.3j) & \\sqrt{-0.1 - 0.3 i} - \\frac{\\sqrt{6} i}{12} & \\sqrt{0.0666666666666667 + 0.2 i} & \\sqrt{0.1 + 0.3 i} \\\\ \\hline  \\end{array} $$"
      ],
      "text/plain": [
       "<IPython.core.display.Math object>"
      ]
     },
     "metadata": {},
     "output_type": "display_data"
    },
    {
     "name": "stdout",
     "output_type": "stream",
     "text": [
      "True\n",
      "False\n"
     ]
    }
   ],
   "source": [
    "class Dimension:\n",
    "    \"\"\" The conformal dimension with all possible notations. \"\"\"\n",
    "    \n",
    "    def __init__(self, variable = 'alpha', value = None, charge = Charge()):\n",
    "        \"\"\" Needs a charge, a string, corresponding to a variable, and a value, which by default\n",
    "        is a symbolic variable. We then compute the values of all variables. \n",
    "        \"\"\"\n",
    "        \n",
    "        self.charge = charge\n",
    "        self.S = charge.get('S', False)\n",
    "        self.beta = charge.get('beta', False)\n",
    "        self.Q = charge.get('Q', False)\n",
    "        self.b = charge.get('b', False)\n",
    "        self.B = charge.get('B', False)\n",
    "\n",
    "        self.names = [['Delta', r'\\Delta'], ['delta', r'\\delta'], ['alpha', r'\\alpha'], ['A', 'A'], ['P', 'P']]\n",
    "        \"\"\" Class variables tend to get modified when used, so let's not use them! \"\"\"  \n",
    "        \n",
    "        if value is None:\n",
    "            if variable == 'degenerate':\n",
    "                value = symbols(['r', 's'])\n",
    "            else:\n",
    "                for i in range(len(self.names)):\n",
    "                    if variable == self.names[i][0]:\n",
    "                        value = symbols(self.names[i][1]) # Giving a symbolic value by default.   \n",
    "\n",
    "        for name in self.names:\n",
    "            name += [self.convert(value, variable, name[0])]        \n",
    "            \n",
    "        self.isDegenerate = False   \n",
    "        self.hasNullVector = False\n",
    "        if variable == 'degenerate':\n",
    "            self.isDegenerate = True\n",
    "            self.names = [['degenerate', '(r,s)', tuple(value)]] + self.names  \n",
    "            (r, s) = value\n",
    "            self.hasNullVector = isinstance(r, int) and isinstance(s, int) and r*s > 0\n",
    "                 \n",
    "    def convert(self, x, var1, var2):\n",
    "        \"\"\" Given a value x and two names of variables, returns the value of var2 if var1 = x. \"\"\"\n",
    "        if var1 == var2:\n",
    "            result = x\n",
    "        else:\n",
    "            result = {\n",
    "                ('Delta', 'delta'): lambda x: x - self.S,\n",
    "                ('Delta', 'alpha'): lambda x: self.Q / Rational(2) + sqrt(self.S - x),\n",
    "                ('Delta', 'A'): lambda x: sqrt(self.B * (self.S - x)),\n",
    "                ('Delta', 'P'): lambda x: sqrt(x - self.S),\n",
    "                ('delta', 'Delta'): lambda x: x + self.S,\n",
    "                ('delta', 'alpha'): lambda x: self.Q / Rational(2) + sqrt(-x),\n",
    "                ('delta', 'A'): lambda x: sqrt(-self.B * x),\n",
    "                ('delta', 'P'): lambda x: sqrt(x),\n",
    "                ('alpha', 'Delta'): lambda x: x * (self.Q - x),\n",
    "                ('alpha', 'delta'): lambda x: -(x - self.Q / Rational(2))**2,\n",
    "                ('alpha', 'A'): lambda x: (1 + self.B)/Rational(2) - self.b * x,\n",
    "                ('alpha', 'P'): lambda x: I * (self.Q / Rational(2) - x),\n",
    "                ('A', 'Delta'): lambda x: self.S - x**2 * Rational(1) / self.B,\n",
    "                ('A', 'delta'): lambda x: -x**2 * Rational(1) / self.B,\n",
    "                ('A', 'alpha'): lambda x: self.Q / Rational(2) - x * Rational(1) / self.b,\n",
    "                ('A', 'P'): lambda x: x * I * Rational(1) / self.b,\n",
    "                ('P', 'Delta'): lambda x: self.S + x**2,\n",
    "                ('P', 'delta'): lambda x: x**2,\n",
    "                ('P', 'alpha'): lambda x: self.Q / Rational(2) + I * x, \n",
    "                ('P', 'A'): lambda x: -I * self.b * x,\n",
    "                ('degenerate', 'Delta'): lambda x: self.S - (x[0]**2 * self.B + 2 * x[0] * x[1] \n",
    "                                                    + x[1]**2 * Rational(1) / self.B) / Rational(4),\n",
    "                ('degenerate', 'delta'): lambda x: -(x[0]**2 * self.B + 2 * x[0] * x[1] \n",
    "                                                    + x[1]**2 * Rational(1) / self.B) / Rational(4),\n",
    "                ('degenerate', 'alpha'): lambda x: -((x[0] - 1) * self.b + \n",
    "                                                     (x[1] - 1) * Rational(1) / self.b) / Rational(2),\n",
    "                ('degenerate', 'A'): lambda x: (x[0] * self.B + x[1]) / Rational(2),\n",
    "                ('degenerate', 'P'): lambda x: (x[0] * self.b + x[1] * Rational(1) / self.b) * I / Rational(2),\n",
    "                    }[(var1, var2)](x)\n",
    "        return result  \n",
    "    \n",
    "    def get(self, variable, num = True):\n",
    "        \"\"\" Returns the value of a given variable. By default this value is a float or complex. \"\"\"\n",
    "        result = None\n",
    "        for name in self.names:\n",
    "            if variable == name[0]:\n",
    "                result = name[2]\n",
    "                if num and name[0] is not 'degenerate':\n",
    "                    result = numerical(result)\n",
    "        return result  \n",
    "    \n",
    "    def fuse(self, otherField):\n",
    "        \"\"\" Returns the list of dimensions of fused fields, assuming the model is not minimal. \"\"\"\n",
    "        if self.isDegenerate and otherField.isDegenerate:\n",
    "            (r1, s1) = self.get('degenerate')\n",
    "            (r2, s2) = otherField.get('degenerate')\n",
    "            dims = []\n",
    "            for r in range(abs(r1 - r2) + 1, r1 + r2 + 1, 2):\n",
    "                for s in range(abs(s1 - s2) + 1, s1 + s2 + 1, 2):\n",
    "                    dims.append(Dimension('degenerate', [r, s], self.charge))\n",
    "            return dims\n",
    "        if self.isDegenerate:\n",
    "            (r, s) = self.get('degenerate')\n",
    "            alpha = otherField.get('alpha', False)\n",
    "        if otherField.isDegenerate:\n",
    "            (r, s) = otherField.get('degenerate')\n",
    "            alpha = self.get('alpha', False)\n",
    "        if self.isDegenerate or otherField.isDegenerate:    \n",
    "            ars = Dimension('degenerate', [r, s], self.charge).get('alpha', False)\n",
    "            dims = []\n",
    "            b = self.charge.get('b', False)\n",
    "            for i in range(r):\n",
    "                for j in range(s):\n",
    "                    dims.append(Dimension('alpha', alpha + ars + i*b + j/b))\n",
    "            return dims \n",
    "        return None  \n",
    "    \n",
    "    def hasForNullVector(self, otherField):\n",
    "        \"\"\" Says whether the field is degenerate, and the other field is its null vector. \"\"\"\n",
    "        answer = False\n",
    "        if self.hasNullVector and isinstance(otherField, Dimension) and otherField.isDegenerate:\n",
    "            (r1, s1) = self.get('degenerate')\n",
    "            (r2, s2) = otherField.get('degenerate')\n",
    "            if r1 == r2 and s1 == -s2 or r1 == -r2 and s1 == s2:\n",
    "                answer = True\n",
    "        return answer\n",
    "    \n",
    "    def display(self):\n",
    "        \"\"\" Prints the relevant data. \"\"\"\n",
    "        LatexTable(self.names, [1, 2])\n",
    "        \n",
    "\n",
    "if __name__ == '__main__':\n",
    "    \n",
    "    Charge('minimal', [11, 12]).KacTable()\n",
    "    Dimension().display()\n",
    "    Dimension('degenerate').display()\n",
    "    Dimension('degenerate', [2, 1]).display()\n",
    "    Dimension('Delta').display()\n",
    "    Dimension('delta').display()\n",
    "    Dimension('A').display()\n",
    "    Dimension('P').display()\n",
    "    field1 = Dimension('degenerate', [2, 3])\n",
    "    field2 = Dimension('degenerate', [3, 5])\n",
    "    field3 = Dimension('alpha')\n",
    "    display(Math(latex([dim.get('degenerate') for dim in field1.fuse(field2)])))\n",
    "    display(Math(latex([dim.get('alpha', False) for dim in field1.fuse(field3)])))\n",
    "    display(Math(latex([dim.get('alpha', False) for dim in field3.fuse(field2)])))\n",
    "    Dimension('delta', .3*1j + .1, Charge('minimal', [3, 2])).display()\n",
    "    dim = Dimension('degenerate', (1, 1/2), Charge('beta', .3))\n",
    "    print( dim.isDegenerate )\n",
    "    print( dim.hasNullVector )\n"
   ]
  },
  {
   "cell_type": "code",
   "execution_count": 6,
   "metadata": {
    "collapsed": false
   },
   "outputs": [
    {
     "name": "stdout",
     "output_type": "stream",
     "text": [
      "False\n",
      "True\n"
     ]
    }
   ],
   "source": [
    "if __name__ == '__main__':\n",
    "    \n",
    "    field1 = Dimension('degenerate', [1, -2])\n",
    "    field2 = Dimension('degenerate', [-1, -2])\n",
    "    print( field1.hasForNullVector(field2) )\n",
    "    print( field2.hasForNullVector(field1) )"
   ]
  },
  {
   "cell_type": "markdown",
   "metadata": {
    "collapsed": true
   },
   "source": [
    "## Fields\n",
    "\n",
    "There are two types of fields: diagonal and non-diagonal. Fields have a pair of dimensions, which are equal if the field is diagonal. The spin is the difference of the two dimensions. Bosonic fields have integer spins, fermionic fields have half-integer spins. \n",
    "\n",
    "Particularly useful non-diagonal fields may be built from pairs of degenerate Dimensions of the type $((r,s) , (r, -s))$ with $r,s,rs\\in\\frac12 \\mathbb{Z}$. The spin of such a field is $rs$. We call them non-diagonal degenerate fields. For such fields we define the signs $((-1)^{2r},(-1)^{2s}) \\in \\{1,-1\\}^2$. For any other field, the signs are $(1,1)$."
   ]
  },
  {
   "cell_type": "code",
   "execution_count": 7,
   "metadata": {
    "collapsed": false
   },
   "outputs": [],
   "source": [
    "class Field:\n",
    "    \"\"\" A conformal field. \"\"\"\n",
    "    \n",
    "    def __init__(self, dim, diagonal = False, non_diagonal = False, spin = 0):\n",
    "        \"\"\" Give one Dimension object, and declare whether the field is diagonal, whether it is \n",
    "        a non-diagonal degenerate field, or what its spin is. \"\"\"\n",
    "        \n",
    "        self.dims = [dim]\n",
    "        self.charge = dim.charge\n",
    "        self.signs = (1, 1)\n",
    "        if diagonal:\n",
    "            self.dims.append(dim)\n",
    "            self.spin = 0\n",
    "        elif non_diagonal:\n",
    "            (r, s) = dim.get('degenerate')\n",
    "            self.dims.append(Dimension('degenerate', (r, -s), self.charge))\n",
    "            self.spin = Rational(r*s)\n",
    "            self.signs = (Field.sign(r), Field.sign(s))\n",
    "        else:\n",
    "            self.spin = Rational(spin)\n",
    "            self.dims.append(Dimension('Delta', dim.get('Delta') + spin, self.charge))\n",
    "        self.dimensions = [self.dims[0].get('Delta'), self.dims[1].get('Delta')]\n",
    "        self.total_dimension = self.dimensions[0] + self.dimensions[1]\n",
    "        \n",
    "    @staticmethod\n",
    "    def sign(r):\n",
    "        \"\"\" Computes (-1)^2r . \"\"\"\n",
    "        return -1 if 2*r %2 == 1 else 1\n",
    "    \n",
    "    def display(self, show_deg = True, show_spin = True, show_dims = True, show_signs = True): \n",
    "        \"\"\" Can display the degenerate indices, the spin, the dimensions. \"\"\"\n",
    "        string = \"\"\n",
    "        if show_deg:\n",
    "            string += (str(self.dims[0].get('degenerate')) + \" \" \n",
    "                       + str(self.dims[1].get('degenerate')))\n",
    "        if show_spin:\n",
    "            string += ' spin ' + str(self.spin)\n",
    "        if show_dims:\n",
    "            string += ' ' + str(self.dimensions)\n",
    "        if show_signs:\n",
    "            string += ' ' + str(self.signs)\n",
    "        print( string )\n",
    "    \n",
    "    @staticmethod\n",
    "    def sort(fields_list, erase_dims = True):\n",
    "        \"\"\" Sort the list by increasing (real parts of) total dimensions. \"\"\"\n",
    "        fields = []\n",
    "        for field in fields_list:\n",
    "            fields.append((field, field.total_dimension.real))\n",
    "        fields = numpy.array(fields, dtype = [('object', object), ('dimension', float)])    \n",
    "        fields = numpy.sort(fields, order = 'dimension')\n",
    "        if erase_dims:\n",
    "            fields = [field[0] for field in fields]\n",
    "        return fields"
   ]
  },
  {
   "cell_type": "code",
   "execution_count": 8,
   "metadata": {
    "collapsed": false
   },
   "outputs": [
    {
     "name": "stdout",
     "output_type": "stream",
     "text": [
      "(0, 0) (0, 0) spin 0 [-0.041666666666666664, -0.041666666666666664]\n",
      "(0, 1/2) (0, -1/2) spin 0 [0.052083333333333336, 0.052083333333333336]\n",
      "(1, 0) (1, 0) spin 0 [0.125, 0.125]\n",
      "(1, 1/2) (1, -1/2) spin 1/2 [-0.03125, 0.46875]\n",
      "(0, 1) (0, -1) spin 0 [0.3333333333333333, 0.3333333333333333]\n",
      "(1, 1) (1, -1) spin 1 [0.0, 1.0]\n",
      "(2, 0) (2, 0) spin 0 [0.625, 0.625]\n",
      "(2, 1/2) (2, -1/2) spin 1 [0.21875, 1.21875]\n",
      "(0, 3/2) (0, -3/2) spin 0 [0.8020833333333334, 0.8020833333333334]\n",
      "(1, 3/2) (1, -3/2) spin 3/2 [0.21875, 1.71875]\n",
      "(2, 1) (2, -1) spin 2 [0.0, 2.0]\n",
      "(0, 2) (0, -2) spin 0 [1.4583333333333333, 1.4583333333333333]\n",
      "(2, 3/2) (2, -3/2) spin 3 [-0.03125, 2.96875]\n",
      "(1, 2) (1, -2) spin 2 [0.625, 2.625]\n",
      "(2, 2) (2, -2) spin 4 [0.125, 4.125]\n"
     ]
    }
   ],
   "source": [
    "if __name__ == '__main__':\n",
    "    \n",
    "    charge = Charge('c', 0)\n",
    "    fields = []\n",
    "    for m in range(3):\n",
    "        for n in range(5):\n",
    "            dim = Dimension('degenerate', (m, Rational(n/2)), charge)\n",
    "            field = Field(dim, non_diagonal = True)\n",
    "            fields.append(field)\n",
    "    fields = Field.sort(fields)\n",
    "    for field in fields:\n",
    "        field.display()"
   ]
  },
  {
   "cell_type": "code",
   "execution_count": 22,
   "metadata": {
    "collapsed": false
   },
   "outputs": [
    {
     "name": "stdout",
     "output_type": "stream",
     "text": [
      "1.0\n",
      "True\n",
      "False\n"
     ]
    }
   ],
   "source": [
    "x = Rational(1/4)*2\n",
    "x = 2*.5\n",
    "print(x)\n",
    "print(x%2 == 1)\n",
    "print(isinstance(x, int))"
   ]
  },
  {
   "cell_type": "code",
   "execution_count": null,
   "metadata": {
    "collapsed": true
   },
   "outputs": [],
   "source": []
  }
 ],
 "metadata": {
  "kernelspec": {
   "display_name": "Python 3",
   "language": "python",
   "name": "python3"
  },
  "language_info": {
   "codemirror_mode": {
    "name": "ipython",
    "version": 3
   },
   "file_extension": ".py",
   "mimetype": "text/x-python",
   "name": "python",
   "nbconvert_exporter": "python",
   "pygments_lexer": "ipython3",
   "version": "3.4.3"
  }
 },
 "nbformat": 4,
 "nbformat_minor": 0
}
